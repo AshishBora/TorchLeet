{
 "cells": [
  {
   "cell_type": "markdown",
   "metadata": {},
   "source": [
    "# Visualize Training Progress with TensorBoard in PyTorch\n",
    "In this notebook, you will learn how to use TensorBoard with PyTorch to monitor the training progress of a simple linear regression model. TensorBoard provides a powerful interface for visualizing metrics, such as loss, during training.\n",
    "\n",
    "Problem Overview:\n",
    "\n",
    "The dataset consists of:\n",
    "\n",
    "+ Input: A single feature (`X`) generated randomly between 0 and 10.\n",
    "+ Output: A target value (`y`) following a linear relationship (`y = 3X + 5`) with added noise.\n",
    "\n",
    "The task is to:\n",
    "1. Train a linear regression model using PyTorch.\n",
    "2. Log the training loss to TensorBoard for visualization.\n",
    "\n",
    "Objectives:\n",
    "1. Define the Model:\n",
    "+ Create a linear regression model with a single input and output using torch.nn.Linear.\n",
    "2. Set Up TensorBoard:\n",
    "+ Use the SummaryWriter class from torch.utils.tensorboard to log data during training.\n",
    "3. Training and Logging:\n",
    "+ Train the model using gradient descent with Mean Squared Error (MSE) as the loss function.\n",
    "+ Log the training loss to TensorBoard after each epoch.\n",
    "4. Visualize with TensorBoard:\n",
    "+ Use the command tensorboard --logdir=runs to start TensorBoard and visualize the loss curve."
   ]
  },
  {
   "cell_type": "code",
   "execution_count": null,
   "metadata": {},
   "outputs": [],
   "source": [
    "import torch\n",
    "import torch.nn as nn\n",
    "import torch.optim as optim\n",
    "from torch.utils.tensorboard import SummaryWriter"
   ]
  },
  {
   "cell_type": "code",
   "execution_count": null,
   "metadata": {},
   "outputs": [],
   "source": [
    "# Generate synthetic data\n",
    "torch.manual_seed(42)\n",
    "X = torch.rand(100, 1) * 10  # 100 data points between 0 and 10\n",
    "y = 3 * X + 5 + torch.randn(100, 1)  # Linear relationship with noise\n",
    "\n",
    "# Define a simple Linear Regression Model\n",
    "class LinearRegressionModel(nn.Module):\n",
    "    def __init__(self):\n",
    "        super(LinearRegressionModel, self).__init__()\n",
    "        self.linear = nn.Linear(1, 1)  # Single input and single output\n",
    "\n",
    "    def forward(self, x):\n",
    "        return self.linear(x)"
   ]
  },
  {
   "cell_type": "code",
   "execution_count": null,
   "metadata": {},
   "outputs": [],
   "source": [
    "# Initialize TensorBoard writer\n",
    "writer = SummaryWriter(log_dir=\"runs/linear_regression\")\n",
    "\n",
    "# Initialize the model, loss function, and optimizer\n",
    "model = LinearRegressionModel()\n",
    "criterion = nn.MSELoss()\n",
    "optimizer = optim.SGD(model.parameters(), lr=0.01)\n",
    "\n",
    "# Training loop\n",
    "epochs = 100\n",
    "for epoch in range(epochs):\n",
    "    # Forward pass\n",
    "    predictions = model(X)\n",
    "    loss = criterion(predictions, y)\n",
    "\n",
    "    # Backward pass and optimization\n",
    "    optimizer.zero_grad()\n",
    "    loss.backward()\n",
    "    optimizer.step()\n",
    "\n",
    "    # Log loss to TensorBoard\n",
    "    writer.add_scalar(\"Loss/train\", loss.item(), epoch)\n",
    "\n",
    "    # Log progress every 10 epochs\n",
    "    if (epoch + 1) % 10 == 0:\n",
    "        print(f\"Epoch [{epoch + 1}/{epochs}], Loss: {loss.item():.4f}\")\n",
    "\n",
    "# Close the TensorBoard writer\n",
    "writer.close()\n",
    "\n",
    "# Run TensorBoard using the logs generated\n",
    "# Command to run: tensorboard --logdir=runs\n"
   ]
  }
 ],
 "metadata": {
  "kernelspec": {
   "display_name": ".venv",
   "language": "python",
   "name": "python3"
  },
  "language_info": {
   "codemirror_mode": {
    "name": "ipython",
    "version": 3
   },
   "file_extension": ".py",
   "mimetype": "text/x-python",
   "name": "python",
   "nbconvert_exporter": "python",
   "pygments_lexer": "ipython3",
   "version": "3.10.4"
  }
 },
 "nbformat": 4,
 "nbformat_minor": 2
}
