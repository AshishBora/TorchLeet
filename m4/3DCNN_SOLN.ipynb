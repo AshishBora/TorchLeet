{
 "cells": [
  {
   "cell_type": "markdown",
   "metadata": {},
   "source": [
    "# Problem: Implement parameter initialization strategies for a CNN model in Pytorch\n",
    "\n",
    "### Problem Statement\n",
    "You are tasked with employing and evaluating a CNN model\\'s parameter initialization strategies in Pytorch. \n",
    "Your goal is to initialize the weights and biases of a vanilla CNN model provided in the problem statement and comment on the implications of each strategy.\n",
    "\n",
    "### Requirements\n",
    "1. **Initialize** weights and biases in the following ways:\n",
    "   - **Zero Initialization**: set the parameters to zero\n",
    "   - **Random Initialization**: sets model parameters to random values drawn from a normal distribution \n",
    "   - **Xavier Initialization** sets them to random values from a normal distribution with **mean=0 and variance=1\\/n**\n",
    "   - **Kaiming He Initialization** initializes to random values from a normal distribution with **mean=0 and variance=2\\/n**\n",
    "2. Train and compute accuracy for each strategy\n",
    "### Constraints\n",
    "- Use the given CNN model and the training and testing helper functions for accuracy computations.\n",
    "- Ensure the model is compatible with the CIFAR-10 dataset, which contains 10 classes.\n",
    "\n",
    "\n",
    "<details>\n",
    "  <summary>💡 Hint</summary>\n",
    "  - Use `torch.nn.init` for weight initialization\n",
    "  <br>\n",
    "  - Resources to read: [All you need is a good init](https://arxiv.org/pdf/1511.06422)\n",
    "</details>"
   ]
  },
  {
   "cell_type": "code",
   "execution_count": 1,
   "metadata": {},
   "outputs": [],
   "source": [
    "import torch\n",
    "import torch.nn as nn\n",
    "import torch.optim as optim\n",
    "import torchvision\n",
    "import torchvision.transforms as transforms"
   ]
  },
  {
   "cell_type": "code",
   "execution_count": 2,
   "metadata": {},
   "outputs": [
    {
     "name": "stdout",
     "output_type": "stream",
     "text": [
      "Input image dataset shape: torch.Size([100, 10, 3, 256, 256]) and torch.Size([1000, 3, 256, 256])\n"
     ]
    }
   ],
   "source": [
    "# Generate synthetic CT-scan data (batches, slices, RGB)\n",
    "torch.manual_seed(42)\n",
    "batch = 100\n",
    "num_slices = 10\n",
    "channels = 3\n",
    "width = 256\n",
    "height = 256\n",
    "\n",
    "ct_images = torch.randn(size=(batch, num_slices, channels, width, height))\n",
    "# y = torch.sin(X)\n",
    "ct_images_reshape = ct_images.view(batch*num_slices, channels, width, height)\n",
    "print(f\"Input image dataset shape: {ct_images.shape} and {ct_images_reshape.shape}\")"
   ]
  },
  {
   "cell_type": "code",
   "execution_count": 3,
   "metadata": {},
   "outputs": [],
   "source": [
    "# Define the RNN Model\n",
    "class MedCNN(nn.Module):\n",
    "    def __init__(self, resnet_model):\n",
    "        super(MedCNN, self).__init__()\n",
    "        self.resnet_model = resnet_model\n",
    "        self.conv1 = nn.Conv3d(512, 64, kernel_size=(3, 1, 1), stride=(1, 1, 1))\n",
    "        self.conv2 = nn.Conv3d(64, 32, kernel_size=(3, 1, 1), stride=(1, 1, 1))\n",
    "        self.transconv1 = nn.ConvTranspose3d(32, 3, kernel_size=(4, 16, 16), stride=(3, 16, 16))\n",
    "        self.relu = nn.ReLU()\n",
    "        self.pool = nn.MaxPool3d(2, 2)\n",
    "        self.fc1 = nn.Linear(32*3*4*4, 128*128)\n",
    "        self.fc2 = nn.Linear(128*128, 128*128)\n",
    "        self.dropout = nn.Dropout(0.4)\n",
    "\n",
    "    def forward(self, x):\n",
    "        b, d, c, w, h = x.size() #Input size: [B, D, C, W, H]\n",
    "        print(f\"Input shape [B, D, C, W, H]: {b, d, c, w, h}\")\n",
    "        x = x.view(b*d, c, w, h) #Input to Resent 2DConv layers [B*D, C, W, H]\n",
    "        features = self.resnet_model(x)\n",
    "        print(f\"ResNet output shape[B*D, C, W, H]: {features.shape}\")\n",
    "        _, new_c, new_w, new_h = features.size()\n",
    "        x = features.view(b, d, new_c, new_w, new_h) #[B, D, C, W, H]\n",
    "        x = torch.permute(x, (0, 2, 1, 3, 4)) #rearrange for 3DConv layers [B, C, D, W, H]\n",
    "        print(f\"Reshape Resnet output for 3DConv #1 [B, C, D, W, H]: {x.shape}\")\n",
    "        x = self.relu(self.conv1(x))\n",
    "        print(f\"Output shape 3D Conv #1 layer: {x.shape}\")\n",
    "        x = self.relu(self.pool(self.conv2(x)))\n",
    "        print(f\"Output shape 3D Conv #2 layer: {x.shape}\")\n",
    "        x = self.relu(self.transconv1(x))\n",
    "        print(f\"Output shape 3D Transposed Conv #1 layer: {x.shape}\")\n",
    "        # x = x.view(x.size()[0], -1)\n",
    "        # x = self.relu(self.fc1(x))\n",
    "        # print(f\"Output shape Linear #1 layer: {x.shape}\")\n",
    "        # x = self.dropout(x)\n",
    "        # x = self.fc2(x)\n",
    "        # print(f\"Output shape Linear #2 layer: {x.shape}\")\n",
    "        \n",
    "        return features"
   ]
  },
  {
   "cell_type": "code",
   "execution_count": 4,
   "metadata": {},
   "outputs": [
    {
     "name": "stderr",
     "output_type": "stream",
     "text": [
      "/Users/sameersharma/Library/Caches/pypoetry/virtualenvs/mylogs--5zRa99S-py3.10/lib/python3.10/site-packages/torchvision/models/_utils.py:208: UserWarning: The parameter 'pretrained' is deprecated since 0.13 and may be removed in the future, please use 'weights' instead.\n",
      "  warnings.warn(\n",
      "/Users/sameersharma/Library/Caches/pypoetry/virtualenvs/mylogs--5zRa99S-py3.10/lib/python3.10/site-packages/torchvision/models/_utils.py:223: UserWarning: Arguments other than a weight enum or `None` for 'weights' are deprecated since 0.13 and may be removed in the future. The current behavior is equivalent to passing `weights=ResNet18_Weights.IMAGENET1K_V1`. You can also use `weights=ResNet18_Weights.DEFAULT` to get the most up-to-date weights.\n",
      "  warnings.warn(msg)\n"
     ]
    }
   ],
   "source": [
    "resnet_model = torchvision.models.resnet18(pretrained=True)\n",
    "resnet_model = nn.Sequential(*list(resnet_model.children())[:-2])\n",
    "model = MedCNN(resnet_model)"
   ]
  },
  {
   "cell_type": "code",
   "execution_count": 5,
   "metadata": {},
   "outputs": [
    {
     "name": "stdout",
     "output_type": "stream",
     "text": [
      "Input shape [B, D, C, W, H]: (100, 10, 3, 256, 256)\n",
      "ResNet output shape[B*D, C, W, H]: torch.Size([1000, 512, 8, 8])\n",
      "Reshape Resnet output for 3DConv #1 [B, C, D, W, H]: torch.Size([100, 512, 10, 8, 8])\n",
      "Output shape 3D Conv #1 layer: torch.Size([100, 64, 8, 8, 8])\n",
      "Output shape 3D Conv #2 layer: torch.Size([100, 32, 3, 4, 4])\n",
      "Output shape 3D Transposed Conv #1 layer: torch.Size([100, 3, 10, 64, 64])\n"
     ]
    }
   ],
   "source": [
    "x = model(ct_images)"
   ]
  },
  {
   "cell_type": "code",
   "execution_count": null,
   "metadata": {},
   "outputs": [],
   "source": []
  }
 ],
 "metadata": {
  "kernelspec": {
   "display_name": "mylogs--5zRa99S-py3.10",
   "language": "python",
   "name": "python3"
  },
  "language_info": {
   "codemirror_mode": {
    "name": "ipython",
    "version": 3
   },
   "file_extension": ".py",
   "mimetype": "text/x-python",
   "name": "python",
   "nbconvert_exporter": "python",
   "pygments_lexer": "ipython3",
   "version": "3.10.9"
  }
 },
 "nbformat": 4,
 "nbformat_minor": 2
}
