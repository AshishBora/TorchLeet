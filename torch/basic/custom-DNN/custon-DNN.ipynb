{
  "cells": [
    {
      "cell_type": "markdown",
      "metadata": {
        "id": "l8X9c8cwS7nL"
      },
      "source": [
        "# Problem: Implement a Deep Neural Network\n",
        "\n",
        "### Problem Statement\n",
        "You are tasked with constructing a **Deep Neural Network (DNN)** model to solve a regression task using PyTorch. The objective is to predict target values from synthetic data exhibiting a non-linear relationship.\n",
        "\n",
        "### Requirements\n",
        "Implement the `DNNModel` class that satisfies the following criteria:\n",
        "\n",
        "1. **Model Definition**:\n",
        "   - The model should have:\n",
        "     - An **input layer** connected to a **hidden layer**.\n",
        "     - A **ReLU activation function** for non-linearity.\n",
        "     - An **output layer** with a single unit for regression.\n",
        "\n",
        "<details> <summary>💡 Hint</summary> - Use `nn.Sequential` to simplify the implementation of the `DNNModel`. - Experiment with different numbers of layers and hidden units to optimize performance. - Ensure the final layer has a single output unit (since it's a regression task). </details> <details> <summary>💡 Bonus: Try Custom Loss Functions</summary> Experiment with custom loss functions (e.g., Huber Loss) and compare their performance with MSE. </details>"
      ]
    },
    {
      "cell_type": "code",
      "execution_count": null,
      "metadata": {
        "id": "6WYTiKfES7nM"
      },
      "outputs": [],
      "source": [
        "import torch\n",
        "import torch.nn as nn\n",
        "import torch.optim as optim\n",
        "import matplotlib.pyplot as plt"
      ]
    },
    {
      "cell_type": "code",
      "execution_count": null,
      "metadata": {
        "id": "2cTNU7KDS7nM"
      },
      "outputs": [],
      "source": [
        "# Generate synthetic data\n",
        "torch.manual_seed(42)\n",
        "X = torch.rand(100, 2) * 10  # 100 data points with 2 features\n",
        "y = (X[:, 0] + X[:, 1] ** 2).unsqueeze(1) + torch.randn(100, 1)  # Non-linear relationship with noise"
      ]
    },
    {
      "cell_type": "code",
      "execution_count": null,
      "metadata": {
        "id": "ZngoolTjS7nM"
      },
      "outputs": [],
      "source": [
        "# Define the Deep Neural Network Model\n",
        "class DNNModel(nn.Module):\n",
        "    def __init__(self, num_inputs, num_hidden):\n",
        "        super(DNNModel, self).__init__()\n",
        "        self.linear1 = torch.nn.Linear(num_inputs, num_hidden)\n",
        "        self.relu = torch.nn.ReLU()\n",
        "        self.linear2 = torch.nn.Linear(num_hidden, 1)\n",
        "\n",
        "    def forward(self, x):\n",
        "        x = self.linear1(x)\n",
        "        x = self.relu(x)\n",
        "        x = self.linear2(x)\n",
        "        return x"
      ]
    },
    {
      "cell_type": "code",
      "execution_count": null,
      "metadata": {
        "id": "faMDjbV1S7nM"
      },
      "outputs": [],
      "source": [
        "# Initialize the model, loss function, and optimizer\n",
        "num_hidden = 10\n",
        "model = DNNModel(X.shape[1], num_hidden)\n",
        "criterion = nn.MSELoss()\n",
        "optimizer = optim.Adam(model.parameters(), lr=0.01)\n",
        "\n",
        "# Training loop\n",
        "epochs = 1000\n",
        "for epoch in range(epochs):\n",
        "    # Forward pass\n",
        "    predictions = model(X)\n",
        "    loss = criterion(predictions, y)\n",
        "\n",
        "    # Backward pass and optimization\n",
        "    optimizer.zero_grad()\n",
        "    loss.backward()\n",
        "    optimizer.step()\n",
        "\n",
        "    # Log progress every 100 epochs\n",
        "    if (epoch + 1) % 100 == 0:\n",
        "        print(f\"Epoch [{epoch + 1}/{epochs}], Loss: {loss.item():.4f}\")\n",
        "\n",
        "# Testing on new data\n",
        "X_test = torch.tensor([[4.0, 3.0], [7.0, 8.0]])\n",
        "with torch.no_grad():\n",
        "    predictions = model(X_test)\n",
        "    print(f\"Predictions for {X_test.tolist()}: {predictions.tolist()}\")"
      ]
    },
    {
      "cell_type": "code",
      "source": [
        "# Plot the model fit\n",
        "fig = plt.figure(figsize=(4,4))\n",
        "plt.scatter(X[:, 0] + X[:, 1]**2, y, label='Training data')\n",
        "y_pred = model(X).detach().numpy()\n",
        "plt.scatter(X[:, 0] + X[:, 1]**2, y_pred, color='red', label='Model fit')\n",
        "plt.legend()"
      ],
      "metadata": {
        "id": "4C3TI8vXTpTj"
      },
      "execution_count": null,
      "outputs": []
    }
  ],
  "metadata": {
    "kernelspec": {
      "display_name": ".venv",
      "language": "python",
      "name": "python3"
    },
    "language_info": {
      "codemirror_mode": {
        "name": "ipython",
        "version": 3
      },
      "file_extension": ".py",
      "mimetype": "text/x-python",
      "name": "python",
      "nbconvert_exporter": "python",
      "pygments_lexer": "ipython3",
      "version": "3.10.4"
    },
    "colab": {
      "provenance": [],
      "toc_visible": true
    }
  },
  "nbformat": 4,
  "nbformat_minor": 0
}