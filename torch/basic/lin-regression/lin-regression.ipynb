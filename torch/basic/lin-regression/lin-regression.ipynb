{
  "cells": [
    {
      "cell_type": "markdown",
      "metadata": {
        "id": "GUmNUA9tIX0P"
      },
      "source": [
        "# Problem: Implement Linear Regression\n",
        "\n",
        "### Problem Statement\n",
        "Your task is to implement a **Linear Regression** model using PyTorch. The model should predict a continuous target variable based on a given set of input features.\n",
        "\n",
        "### Requirements\n",
        "1. **Model Definition**:\n",
        "   - Implement a class `LinearRegressionModel` with:\n",
        "     - A single linear layer mapping input features to the target variable.\n",
        "2. **Forward Method**:\n",
        "   - Implement the `forward` method to compute predictions given input data."
      ]
    },
    {
      "cell_type": "code",
      "execution_count": 2,
      "metadata": {
        "id": "7d-isS2hIX0P"
      },
      "outputs": [],
      "source": [
        "import torch\n",
        "import torch.nn as nn\n",
        "import torch.optim as optim"
      ]
    },
    {
      "cell_type": "code",
      "execution_count": 7,
      "metadata": {
        "colab": {
          "base_uri": "https://localhost:8080/"
        },
        "id": "tMisPXt_IX0P",
        "outputId": "83bbd827-61d2-4d7d-f58b-1d40d10f70d9"
      },
      "outputs": [
        {
          "output_type": "stream",
          "name": "stdout",
          "text": [
            "Epoch [100/1000], Loss: 1.6039\n",
            "Epoch [200/1000], Loss: 1.0242\n",
            "Epoch [300/1000], Loss: 0.8017\n",
            "Epoch [400/1000], Loss: 0.7163\n",
            "Epoch [500/1000], Loss: 0.6836\n",
            "Epoch [600/1000], Loss: 0.6710\n",
            "Epoch [700/1000], Loss: 0.6662\n",
            "Epoch [800/1000], Loss: 0.6643\n",
            "Epoch [900/1000], Loss: 0.6636\n",
            "Epoch [1000/1000], Loss: 0.6634\n"
          ]
        }
      ],
      "source": [
        "# Generate synthetic data\n",
        "torch.manual_seed(42)\n",
        "X = torch.rand(100, 1) * 10  # 100 data points between 0 and 10\n",
        "y = 2 * X + 3 + torch.randn(100, 1)  # Linear relationship with noise\n",
        "\n",
        "# Define the Linear Regression Model\n",
        "class LinearRegressionModel(nn.Module):\n",
        "    def __init__(self, in_features, out_features):\n",
        "        super(LinearRegressionModel, self).__init__()\n",
        "        self.linear = torch.nn.Linear(in_features, out_features)\n",
        "\n",
        "    def forward(self, x):\n",
        "        out = self.linear(x)\n",
        "        return out\n",
        "\n",
        "\n",
        "# Initialize the model, loss function, and optimizer\n",
        "model = LinearRegressionModel(X.shape[1], y.shape[1])\n",
        "criterion = nn.MSELoss()\n",
        "optimizer = optim.SGD(model.parameters(), lr=0.01)\n",
        "\n",
        "# Training loop\n",
        "epochs = 1000\n",
        "for epoch in range(epochs):\n",
        "    # Forward pass\n",
        "    predictions = model(X)\n",
        "    loss = criterion(predictions, y)\n",
        "\n",
        "    # Backward pass and optimization\n",
        "    optimizer.zero_grad()\n",
        "    loss.backward()\n",
        "    optimizer.step()\n",
        "\n",
        "    # Log progress every 100 epochs\n",
        "    if (epoch + 1) % 100 == 0:\n",
        "        print(f\"Epoch [{epoch + 1}/{epochs}], Loss: {loss.item():.4f}\")"
      ]
    },
    {
      "cell_type": "code",
      "execution_count": 8,
      "metadata": {
        "colab": {
          "base_uri": "https://localhost:8080/"
        },
        "id": "1qX11R_PIX0Q",
        "outputId": "0b79f5d9-bba2-417c-f7b0-708a1458f827"
      },
      "outputs": [
        {
          "output_type": "stream",
          "name": "stdout",
          "text": [
            "Learned weight: 1.9577, Learned bias: 3.2045\n",
            "Predictions for [[4.0], [7.0]]: [[11.035286903381348], [16.90837860107422]]\n"
          ]
        }
      ],
      "source": [
        "# Display the learned parameters\n",
        "[w, b] = model.linear.parameters()\n",
        "print(f\"Learned weight: {w.item():.4f}, Learned bias: {b.item():.4f}\")\n",
        "\n",
        "# Testing on new data\n",
        "X_test = torch.tensor([[4.0], [7.0]])\n",
        "with torch.no_grad():\n",
        "    predictions = model(X_test)\n",
        "    print(f\"Predictions for {X_test.tolist()}: {predictions.tolist()}\")"
      ]
    }
  ],
  "metadata": {
    "language_info": {
      "name": "python"
    },
    "colab": {
      "provenance": [],
      "toc_visible": true
    },
    "kernelspec": {
      "name": "python3",
      "display_name": "Python 3"
    }
  },
  "nbformat": 4,
  "nbformat_minor": 0
}