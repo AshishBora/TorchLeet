{
  "cells": [
    {
      "cell_type": "markdown",
      "metadata": {
        "id": "nUBFzfEcXjcf"
      },
      "source": [
        "## Problem: Add a Benchmark to Your PyTorch Code\n",
        "\n",
        "### Problem Statement\n",
        "You are tasked with implementing a simple neural network model with fully connected layers and adding benchmarking functionality to measure and display the time taken for each epoch of training and testing. The goal is to evaluate the model's performance and record the time taken for both training and testing phases.\n",
        "\n",
        "### Requirements\n",
        "1. **Define a Neural Network Model**:\n",
        "   - Implement a simple feedforward neural network using fully connected layers (`nn.Linear`).\n",
        "   - The network should be suitable for classification tasks.\n",
        "\n",
        "2. **Benchmark Training and Testing**:\n",
        "   - Measure the time taken for each epoch during training and display the elapsed time.\n",
        "   - Measure and display the time taken for the testing phase after each epoch.\n",
        "\n",
        "### Constraints\n",
        "- The model should have at least two hidden layers with ReLU activations.\n",
        "- Use the appropriate loss function and optimizer for training the model.\n",
        "- Ensure that the benchmarking measures both the training and testing time accurately.\n",
        "\n",
        "<details>\n",
        "  <summary>💡 Hint</summary>\n",
        "  Define the SimpleNN class:\n",
        "  <br>\n",
        "  Add two fully connected layers:\n",
        "  <br>\n",
        "  Apply a ReLU activation function to the first layer.\n",
        "  <br>\n",
        "  <br>\n",
        "  Benchmark the Code:\n",
        "  <br>\n",
        "  Measure and print training time for each epoch.\n",
        "  <br>\n",
        "  Measure and print testing time along with accuracy.\n",
        "</details>"
      ]
    },
    {
      "cell_type": "code",
      "execution_count": 1,
      "metadata": {
        "id": "OzyVe0sfXjcg"
      },
      "outputs": [],
      "source": [
        "import torch\n",
        "import torch.nn as nn\n",
        "import torch.optim as optim\n",
        "import torchvision\n",
        "import torchvision.transforms as transforms\n",
        "import time"
      ]
    },
    {
      "cell_type": "code",
      "execution_count": 2,
      "metadata": {
        "id": "Cij5qXQGXjch",
        "outputId": "2bf07ff8-346f-4b9e-e213-3e9d27f96dec",
        "colab": {
          "base_uri": "https://localhost:8080/"
        }
      },
      "outputs": [
        {
          "output_type": "stream",
          "name": "stderr",
          "text": [
            "100%|██████████| 9.91M/9.91M [00:01<00:00, 5.47MB/s]\n",
            "100%|██████████| 28.9k/28.9k [00:00<00:00, 160kB/s]\n",
            "100%|██████████| 1.65M/1.65M [00:01<00:00, 1.52MB/s]\n",
            "100%|██████████| 4.54k/4.54k [00:00<00:00, 4.87MB/s]\n"
          ]
        }
      ],
      "source": [
        "# Load MNIST dataset\n",
        "transform = transforms.Compose([transforms.ToTensor(), transforms.Normalize((0.5,), (0.5,))])\n",
        "\n",
        "train_dataset = torchvision.datasets.MNIST(root='./data', train=True, download=True, transform=transform)\n",
        "train_loader = torch.utils.data.DataLoader(train_dataset, batch_size=64, shuffle=True)\n",
        "\n",
        "test_dataset = torchvision.datasets.MNIST(root='./data', train=False, download=True, transform=transform)\n",
        "test_loader = torch.utils.data.DataLoader(test_dataset, batch_size=64, shuffle=False)"
      ]
    },
    {
      "cell_type": "code",
      "execution_count": 9,
      "metadata": {
        "id": "d0XziqvgXjch"
      },
      "outputs": [],
      "source": [
        "# Define a simple neural network model\n",
        "# TODO: Add layers to the model\n",
        "class SimpleNN(nn.Module):\n",
        "    def __init__(self, num_hidden):\n",
        "        super().__init__()\n",
        "        self.linear1 = nn.Linear(28*28, num_hidden)\n",
        "        self.relu = nn.ReLU()\n",
        "        self.linear2 = nn.Linear(num_hidden, 10)\n",
        "\n",
        "    def forward(self, x):\n",
        "        b = x.shape[0]\n",
        "        x = x.view(b, 28*28)\n",
        "        x = self.linear1(x)\n",
        "        x = self.relu(x)\n",
        "        x = self.linear2(x)\n",
        "        return x   # logits\n",
        "\n",
        "# Initialize the model, loss function, and optimizer\n",
        "model = SimpleNN(88)\n",
        "criterion = nn.CrossEntropyLoss()\n",
        "optimizer = optim.SGD(model.parameters(), lr=0.01)"
      ]
    },
    {
      "cell_type": "code",
      "execution_count": 10,
      "metadata": {
        "id": "acktY96pXjch",
        "outputId": "bbf7c137-1b23-47eb-9b86-8931ae60c40b",
        "colab": {
          "base_uri": "https://localhost:8080/"
        }
      },
      "outputs": [
        {
          "output_type": "stream",
          "name": "stdout",
          "text": [
            "Epoch [1/5], Loss: 0.4653, Time: 19.4435s\n",
            "Epoch [2/5], Loss: 0.4118, Time: 20.0846s\n",
            "Epoch [3/5], Loss: 0.0917, Time: 19.8906s\n",
            "Epoch [4/5], Loss: 0.3359, Time: 18.2886s\n",
            "Epoch [5/5], Loss: 0.1383, Time: 19.3073s\n"
          ]
        }
      ],
      "source": [
        "# Training loop with benchmarking\n",
        "epochs = 5\n",
        "for epoch in range(epochs):\n",
        "    start_time = time.time()  # Start time for training\n",
        "    for images, labels in train_loader:\n",
        "        # Forward pass\n",
        "        outputs = model(images)\n",
        "        loss = criterion(outputs, labels)\n",
        "\n",
        "        # Backward pass and optimization\n",
        "        optimizer.zero_grad()\n",
        "        loss.backward()\n",
        "        optimizer.step()\n",
        "\n",
        "    end_time = time.time()  # End time for training\n",
        "    training_time = end_time - start_time\n",
        "    print(f\"Epoch [{epoch + 1}/{epochs}], Loss: {loss.item():.4f}, Time: {training_time:.4f}s\")"
      ]
    },
    {
      "cell_type": "code",
      "execution_count": 11,
      "metadata": {
        "id": "xjhJPIKwXjch",
        "outputId": "e8139996-0cd4-4d89-c9e0-39222e5798e3",
        "colab": {
          "base_uri": "https://localhost:8080/"
        }
      },
      "outputs": [
        {
          "output_type": "stream",
          "name": "stdout",
          "text": [
            "Test Accuracy: 92.52%, Testing Time: 2.8610s\n"
          ]
        }
      ],
      "source": [
        "# Evaluate the model on the test set and benchmark the accuracy\n",
        "correct = 0\n",
        "total = 0\n",
        "start_time = time.time()  # Start time for testing\n",
        "with torch.no_grad():\n",
        "    for images, labels in test_loader:\n",
        "        outputs = model(images)\n",
        "        _, predicted = torch.max(outputs, 1)\n",
        "        total += labels.size(0)\n",
        "        correct += (predicted == labels).sum().item()\n",
        "\n",
        "end_time = time.time()  # End time for testing\n",
        "testing_time = end_time - start_time\n",
        "accuracy = 100 * correct / total\n",
        "print(f\"Test Accuracy: {accuracy:.2f}%, Testing Time: {testing_time:.4f}s\")"
      ]
    }
  ],
  "metadata": {
    "kernelspec": {
      "display_name": ".venv",
      "language": "python",
      "name": "python3"
    },
    "language_info": {
      "codemirror_mode": {
        "name": "ipython",
        "version": 3
      },
      "file_extension": ".py",
      "mimetype": "text/x-python",
      "name": "python",
      "nbconvert_exporter": "python",
      "pygments_lexer": "ipython3",
      "version": "3.10.4"
    },
    "colab": {
      "provenance": [],
      "toc_visible": true
    }
  },
  "nbformat": 4,
  "nbformat_minor": 0
}