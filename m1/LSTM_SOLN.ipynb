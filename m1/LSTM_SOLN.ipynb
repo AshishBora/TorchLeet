{
 "cells": [
  {
   "cell_type": "markdown",
   "metadata": {},
   "source": [
    "# Problem: Implement an LSTM Model \n",
    "\n",
    "### Problem Statement\n",
    "You are tasked with implementing a simple **LSTM (Long Short-Term Memory)** model in PyTorch. The model should process sequential data using an LSTM layer followed by a fully connected (FC) layer. Your goal is to complete the model by defining the LSTM layer and implementing the forward pass.\n",
    "\n",
    "### Requirements\n",
    "1. **Define the LSTM Model**:\n",
    "   - Add an **LSTM layer** to the model. This layer should accept input sequences and output hidden states.\n",
    "   - Add a **fully connected (FC) layer** that maps the output of the LSTM to the final predictions.\n",
    "   - Implement the `forward` method to:\n",
    "     - Pass the input sequence through the LSTM.\n",
    "     - Feed the output of the LSTM into the fully connected layer for the final output.\n",
    "\n",
    "### Constraints\n",
    "- The LSTM layer should be implemented with a single hidden layer.\n",
    "- Use a suitable number of input features, hidden units, and output size for the task.\n",
    "- Make sure the `forward` method returns the output of the fully connected layer after processing the LSTM output.\n",
    "\n",
    "\n",
    "<details>\n",
    "  <summary>💡 Hint</summary>\n",
    "  Add the LSTM layer and FC layer in LSTMModel.__init__.\n",
    "  <br>\n",
    "  Implement the forward pass to process sequences using the LSTM and FC layers.\n",
    "</details>"
   ]
  },
  {
   "cell_type": "code",
   "execution_count": 11,
   "metadata": {},
   "outputs": [],
   "source": [
    "import torch\n",
    "import torch.nn as nn\n",
    "import torch.optim as optim\n",
    "import matplotlib.pyplot as plt"
   ]
  },
  {
   "cell_type": "code",
   "execution_count": 2,
   "metadata": {},
   "outputs": [],
   "source": [
    "# Generate synthetic sequential data\n",
    "torch.manual_seed(42)\n",
    "sequence_length = 10\n",
    "num_samples = 100\n",
    "\n",
    "# Create a sine wave dataset\n",
    "X = torch.linspace(0, 4 * 3.14159, steps=num_samples).unsqueeze(1)\n",
    "y = torch.sin(X)\n",
    "\n",
    "# Prepare data for LSTM\n",
    "def create_in_out_sequences(data, seq_length):\n",
    "    in_seq = []\n",
    "    out_seq = []\n",
    "    for i in range(len(data) - seq_length):\n",
    "        in_seq.append(data[i:i + seq_length])\n",
    "        out_seq.append(data[i + seq_length])\n",
    "    return torch.stack(in_seq), torch.stack(out_seq)\n",
    "\n",
    "X_seq, y_seq = create_in_out_sequences(y, sequence_length)"
   ]
  },
  {
   "cell_type": "code",
   "execution_count": 3,
   "metadata": {},
   "outputs": [],
   "source": [
    "class CustomLSTMModel(nn.Module):\n",
    "    def __init__(self, input_dim, hidden_units):\n",
    "        super().__init__()\n",
    "        weights_biases_init = lambda : (nn.Parameter(torch.randn(input_dim, hidden_units)),\n",
    "                                        nn.Parameter(torch.randn(hidden_units, hidden_units)),\n",
    "                                        nn.Parameter(torch.zeros(hidden_units)))\n",
    "        self.input_dim = input_dim\n",
    "        self.hidden_units = hidden_units\n",
    "        self.Wxi, self.Whi, self.bi = weights_biases_init()\n",
    "        self.Wxf, self.Whf, self.bf = weights_biases_init()\n",
    "        self.Wxo, self.Who, self.bo = weights_biases_init()\n",
    "        self.Wxc, self.Whc, self.bc = weights_biases_init()\n",
    "        self.fc = nn.Linear(hidden_units, 1)\n",
    "        # print(self.Wxi.shape, self.Whi.shape, self.bi.shape)\n",
    "        \n",
    "    def forward(self, inputs, H_C=None):\n",
    "        # print(inputs.shape, self.Wxi.shape)\n",
    "        batch_size, seq_len, _ = inputs.shape\n",
    "        if not H_C:\n",
    "            H = torch.randn(batch_size, self.hidden_units)\n",
    "            C = torch.randn(batch_size, self.hidden_units)\n",
    "        else:\n",
    "            H, C = H_C\n",
    "            \n",
    "        all_hidden_states = []\n",
    "        for t in range(seq_len):  \n",
    "            X_t = inputs[:, t, :]\n",
    "            # print(X.shape, self.Wxi.shape, self.Whi.shape, self.bi.shape)  \n",
    "            I_t = torch.sigmoid(torch.matmul(X_t, self.Wxi) + torch.matmul(H, self.Whi) + self.bi)\n",
    "            F_t = torch.sigmoid(torch.matmul(X_t, self.Wxf) + torch.matmul(H, self.Whf) + self.bf)\n",
    "            O_t = torch.sigmoid(torch.matmul(X_t, self.Wxo) + torch.matmul(H, self.Who) + self.bo)\n",
    "            C_tilde = torch.tanh(torch.matmul(X_t, self.Wxc) + torch.matmul(H, self.Whc) + self.bc)\n",
    "            C = F_t * C + I_t * C_tilde\n",
    "            H = O_t * torch.tanh(C)\n",
    "            # print(H.shape)\n",
    "            all_hidden_states.append(H.unsqueeze(1))\n",
    "            \n",
    "        outputs = torch.cat(all_hidden_states, dim=1)\n",
    "        pred = self.fc(outputs)\n",
    "        # print(pred.shape)\n",
    "        return pred, (H, C)\n",
    "        "
   ]
  },
  {
   "cell_type": "code",
   "execution_count": 4,
   "metadata": {},
   "outputs": [],
   "source": [
    "# Define the LSTM Model\n",
    "class LSTMModel(nn.Module):\n",
    "    def __init__(self):\n",
    "        super(LSTMModel, self).__init__()\n",
    "        self.lstm = nn.LSTM(input_size=1, hidden_size=50, num_layers=1, batch_first=True)\n",
    "        self.fc = nn.Linear(50, 1)\n",
    "\n",
    "    def forward(self, x):\n",
    "        out, _ = self.lstm(x)\n",
    "        out = self.fc(out[:, -1, :])  # Use the last output of the LSTM\n",
    "        return out"
   ]
  },
  {
   "cell_type": "code",
   "execution_count": 5,
   "metadata": {},
   "outputs": [],
   "source": [
    "# Initialize the model, loss function, and optimizer\n",
    "model_custom = CustomLSTMModel(1, 50)\n",
    "model_inbuilt = LSTMModel()\n",
    "criterion = nn.MSELoss()\n",
    "optimizer_custom = optim.Adam(model_custom.parameters(), lr=0.01)\n",
    "optimizer_inbuilt = optim.Adam(model_inbuilt.parameters(), lr=0.01)"
   ]
  },
  {
   "cell_type": "code",
   "execution_count": 6,
   "metadata": {},
   "outputs": [
    {
     "name": "stdout",
     "output_type": "stream",
     "text": [
      "Epoch [50/500], Loss: 0.0996\n",
      "Epoch [100/500], Loss: 0.0898\n",
      "Epoch [150/500], Loss: 0.0785\n",
      "Epoch [200/500], Loss: 0.0667\n",
      "Epoch [250/500], Loss: 0.0559\n",
      "Epoch [300/500], Loss: 0.0356\n",
      "Epoch [350/500], Loss: 0.0268\n",
      "Epoch [400/500], Loss: 0.0229\n",
      "Epoch [450/500], Loss: 0.0192\n",
      "Epoch [500/500], Loss: 0.0142\n"
     ]
    }
   ],
   "source": [
    "# Training loop for the custom model\n",
    "epochs = 500\n",
    "for epoch in range(epochs):\n",
    "    # Forward pass\n",
    "    state = None\n",
    "    pred, state = model_custom(X_seq, state)\n",
    "    loss = criterion(pred[:, -1, :], y_seq) # Use the last output of the LSTM\n",
    "    # Backward pass and optimization\n",
    "    optimizer_custom.zero_grad()\n",
    "    loss.backward()\n",
    "    optimizer_custom.step()\n",
    "\n",
    "    # Log progress every 50 epochs\n",
    "    if (epoch + 1) % 50 == 0:\n",
    "        print(f\"Epoch [{epoch + 1}/{epochs}], Loss: {loss.item():.4f}\")"
   ]
  },
  {
   "cell_type": "code",
   "execution_count": 9,
   "metadata": {},
   "outputs": [
    {
     "name": "stdout",
     "output_type": "stream",
     "text": [
      "Epoch [50/500], Loss: 0.0010\n",
      "Epoch [100/500], Loss: 0.0001\n",
      "Epoch [150/500], Loss: 0.0000\n",
      "Epoch [200/500], Loss: 0.0000\n",
      "Epoch [250/500], Loss: 0.0000\n",
      "Epoch [300/500], Loss: 0.0000\n",
      "Epoch [350/500], Loss: 0.0000\n",
      "Epoch [400/500], Loss: 0.0000\n",
      "Epoch [450/500], Loss: 0.0000\n",
      "Epoch [500/500], Loss: 0.0000\n"
     ]
    }
   ],
   "source": [
    "# Training loop for the inbuilt model\n",
    "epochs = 500\n",
    "for epoch in range(epochs):\n",
    "    # Forward pass\n",
    "    pred = model_inbuilt(X_seq)\n",
    "    loss = criterion(pred, y_seq)\n",
    "    # Backward pass and optimization\n",
    "    optimizer_inbuilt.zero_grad()\n",
    "    loss.backward()\n",
    "    optimizer_inbuilt.step()\n",
    "\n",
    "    # Log progress every 50 epochs\n",
    "    if (epoch + 1) % 50 == 0:\n",
    "        print(f\"Epoch [{epoch + 1}/{epochs}], Loss: {loss.item():.4f}\")"
   ]
  },
  {
   "cell_type": "code",
   "execution_count": 19,
   "metadata": {},
   "outputs": [
    {
     "name": "stdout",
     "output_type": "stream",
     "text": [
      "Predictions with Custom Model for new sequence: [0.8722591996192932, 0.8946256041526794, 0.8925198912620544, 0.9096068739891052, 0.7193865776062012, 0.8029537796974182, 0.7611545920372009, 0.6357396841049194, 0.39185675978660583, 0.15291088819503784, 0.0017629489302635193, -0.1545099914073944, -0.2593921720981598, -0.5998544096946716, -0.6508030891418457, -0.7302036881446838, -0.7933940291404724, -0.7178914546966553, -0.8878818154335022, -0.9227510094642639, -0.6303256154060364, -0.9827148914337158, -1.023526906967163, -0.7632614970207214, -0.8843759894371033, -0.6467899680137634, -0.7290364503860474, -0.3021402657032013, -0.23509612679481506, -0.42650213837623596, 0.030517645180225372, 0.08275053650140762, 0.1288076937198639, 0.743124783039093, 0.7048536539077759, 0.7476622462272644, 0.8374730944633484, 0.6570764183998108, 0.9516618847846985, 0.9500941634178162, 0.9618882536888123, 0.8920931220054626, 0.8603857159614563, 0.7005499005317688, 0.90570467710495, 0.7393853068351746, 0.5955331921577454, 0.40855106711387634, 0.28438618779182434, 0.1268976926803589, -0.18761968612670898, -0.16615036129951477, -0.35904431343078613, -0.5928544402122498, -0.7902691960334778, -0.8339560031890869, -0.7381508946418762, -0.9937191605567932, -0.8944850564002991, -0.8618447184562683, -0.8361732363700867, -0.8878591656684875, -0.8476987481117249, -0.9058246612548828, -0.8216201663017273, -0.8061478734016418, -0.5101088285446167, -0.4294678568840027, -0.3295513391494751, -0.011069238185882568, 0.04775863140821457, 0.18089088797569275, 0.15233871340751648, 0.5635582804679871, 0.442098468542099, 0.7315307259559631, 0.7020516991615295, 0.8273202776908875, 0.9707680344581604, 0.967566192150116, 0.8993355631828308, 0.8505983948707581, 0.9234817624092102, 0.8642513155937195, 0.8910333514213562, 0.683143675327301, 0.5588111281394958, 0.4691178500652313, 0.12453547865152359, -0.0231098011136055]\n",
      "Predictions with In-Built Model: [1.034206509590149, 1.0235415697097778, 0.9870346784591675, 0.9252163767814636, 0.8392543196678162, 0.7310377359390259, 0.6032606363296509, 0.4594343304634094, 0.3037526607513428, 0.1407918781042099, -0.024866577237844467, -0.18892835080623627, -0.3474650979042053, -0.4968107342720032, -0.6334448456764221, -0.754021406173706, -0.8555606007575989, -0.9356716871261597, -0.9926558136940002, -1.0254398584365845, -1.033415675163269, -1.0163079500198364, -0.9741513133049011, -0.9073867201805115, -0.8170420527458191, -0.7049393653869629, -0.5738575458526611, -0.4275510311126709, -0.27054107189178467, -0.10767856985330582, 0.05637140944600105, 0.2174883335828781, 0.37214457988739014, 0.5172036290168762, 0.6496807932853699, 0.7666422128677368, 0.8652748465538025, 0.9430482983589172, 0.997873842716217, 1.0282002687454224, 1.0330510139465332, 1.0120247602462769, 0.9652963280677795, 0.8936432003974915, 0.7985097765922546, 0.6820997595787048, 0.5474390983581543, 0.3983381986618042, 0.23918719589710236, 0.07460938394069672, -0.09090474247932434, -0.25320976972579956, -0.4085005521774292, -0.5531771779060364, -0.6837753653526306, -0.7970666289329529, -0.89028400182724, -0.9613107442855835, -1.0087145566940308, -1.0316288471221924, -1.0295889377593994, -1.0024389028549194, -0.9503586888313293, -0.8739995360374451, -0.7746828198432922, -0.6545992493629456, -0.5169273018836975, -0.3657670021057129, -0.20583371818065643, -0.041961900889873505, 0.12137367576360703, 0.2803019881248474, 0.43148273229599, 0.5718644261360168, 0.6984841227531433, 0.808440625667572, 0.8990126252174377, 0.9678299427032471, 1.01301109790802, 1.0332329273223877, 1.0277496576309204, 0.9963898062705994, 0.9395633935928345, 0.8583051562309265, 0.7543521523475647, 0.6302329897880554, 0.4893004894256592, 0.3356313705444336, 0.17375512421131134, 0.008280998095870018]\n"
     ]
    }
   ],
   "source": [
    "# Testing on new data\n",
    "test_steps = 100  # Ensure this is greater than sequence_length\n",
    "X_test = torch.linspace(0, 5 * 3.14159, steps=test_steps).unsqueeze(1)\n",
    "y_test = torch.sin(X_test)\n",
    "\n",
    "# Create test input sequences\n",
    "X_test_seq, _ = create_in_out_sequences(y_test, sequence_length)\n",
    "\n",
    "with torch.no_grad():\n",
    "    pred_custom, _ = model_custom(X_test_seq)\n",
    "    pred_inbuilt = model_inbuilt(X_test_seq)\n",
    "pred_custom = torch.flatten(pred_custom[:, -1, :])\n",
    "pred_inbuilt = pred_inbuilt.squeeze()\n",
    "print(f\"Predictions with Custom Model for new sequence: {pred_custom.tolist()}\")\n",
    "print(f\"Predictions with In-Built Model: {pred_inbuilt.tolist()}\")\n"
   ]
  },
  {
   "cell_type": "code",
   "execution_count": 22,
   "metadata": {},
   "outputs": [
    {
     "data": {
      "image/png": "[encoded data removed]",
      "text/plain": [
       "<Figure size 640x480 with 1 Axes>"
      ]
     },
     "metadata": {},
     "output_type": "display_data"
    }
   ],
   "source": [
    "#Plot the predictions\n",
    "plt.figure()\n",
    "# plt.plot(y_test, label=\"Ground Truth\")\n",
    "plt.plot(pred_custom, label=\"custom model\")\n",
    "plt.plot(pred_inbuilt, label=\"inbuilt model\")\n",
    "plt.legend()\n",
    "plt.show()"
   ]
  },
  {
   "cell_type": "code",
   "execution_count": null,
   "metadata": {},
   "outputs": [],
   "source": []
  }
 ],
 "metadata": {
  "kernelspec": {
   "display_name": ".venv",
   "language": "python",
   "name": "python3"
  },
  "language_info": {
   "codemirror_mode": {
    "name": "ipython",
    "version": 3
   },
   "file_extension": ".py",
   "mimetype": "text/x-python",
   "name": "python",
   "nbconvert_exporter": "python",
   "pygments_lexer": "ipython3",
   "version": "3.10.9"
  }
 },
 "nbformat": 4,
 "nbformat_minor": 2
}
