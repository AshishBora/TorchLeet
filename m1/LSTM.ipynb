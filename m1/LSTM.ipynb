{
 "cells": [
  {
   "cell_type": "code",
   "execution_count": 7,
   "metadata": {},
   "outputs": [],
   "source": [
    "import torch\n",
    "import torch.nn as nn\n",
    "import torch.optim as optim"
   ]
  },
  {
   "cell_type": "code",
   "execution_count": 8,
   "metadata": {},
   "outputs": [],
   "source": [
    "# Generate synthetic sequential data\n",
    "torch.manual_seed(42)\n",
    "sequence_length = 10\n",
    "num_samples = 100\n",
    "\n",
    "# Create a sine wave dataset\n",
    "X = torch.linspace(0, 4 * 3.14159, steps=num_samples).unsqueeze(1)\n",
    "y = torch.sin(X)\n",
    "\n",
    "# Prepare data for LSTM\n",
    "def create_in_out_sequences(data, seq_length):\n",
    "    in_seq = []\n",
    "    out_seq = []\n",
    "    for i in range(len(data) - seq_length):\n",
    "        in_seq.append(data[i:i + seq_length])\n",
    "        out_seq.append(data[i + seq_length])\n",
    "    return torch.stack(in_seq), torch.stack(out_seq)\n",
    "\n",
    "X_seq, y_seq = create_in_out_sequences(y, sequence_length)"
   ]
  },
  {
   "cell_type": "code",
   "execution_count": 9,
   "metadata": {},
   "outputs": [],
   "source": [
    "# Define the LSTM Model\n",
    "class LSTMModel(nn.Module):\n",
    "    def __init__(self):\n",
    "        super(LSTMModel, self).__init__()\n",
    "        self.lstm = nn.LSTM(input_size=1, hidden_size=50, num_layers=1, batch_first=True)\n",
    "        self.fc = nn.Linear(50, 1)\n",
    "\n",
    "    def forward(self, x):\n",
    "        out, _ = self.lstm(x)\n",
    "        out = self.fc(out[:, -1, :])  # Use the last output of the LSTM\n",
    "        return out\n",
    "\n",
    "# Initialize the model, loss function, and optimizer\n",
    "model = LSTMModel()\n",
    "criterion = nn.MSELoss()\n",
    "optimizer = optim.Adam(model.parameters(), lr=0.01)"
   ]
  },
  {
   "cell_type": "code",
   "execution_count": 10,
   "metadata": {},
   "outputs": [
    {
     "name": "stdout",
     "output_type": "stream",
     "text": [
      "Epoch [50/500], Loss: 0.0004\n",
      "Epoch [100/500], Loss: 0.0000\n",
      "Epoch [150/500], Loss: 0.0000\n",
      "Epoch [200/500], Loss: 0.0000\n",
      "Epoch [250/500], Loss: 0.0000\n",
      "Epoch [300/500], Loss: 0.0000\n",
      "Epoch [350/500], Loss: 0.0000\n",
      "Epoch [400/500], Loss: 0.0000\n",
      "Epoch [450/500], Loss: 0.0000\n",
      "Epoch [500/500], Loss: 0.0000\n"
     ]
    }
   ],
   "source": [
    "# Training loop\n",
    "epochs = 500\n",
    "for epoch in range(epochs):\n",
    "    # Forward pass\n",
    "    predictions = model(X_seq)\n",
    "    loss = criterion(predictions, y_seq)\n",
    "\n",
    "    # Backward pass and optimization\n",
    "    optimizer.zero_grad()\n",
    "    loss.backward()\n",
    "    optimizer.step()\n",
    "\n",
    "    # Log progress every 50 epochs\n",
    "    if (epoch + 1) % 50 == 0:\n",
    "        print(f\"Epoch [{epoch + 1}/{epochs}], Loss: {loss.item():.4f}\")"
   ]
  },
  {
   "cell_type": "code",
   "execution_count": 11,
   "metadata": {},
   "outputs": [
    {
     "name": "stdout",
     "output_type": "stream",
     "text": [
      "Predictions for new sequence: [1.0354082584381104, 1.0123006105422974, 0.9615825414657593, 0.8840561509132385, 0.7813034653663635, 0.6558271050453186, 0.5111342668533325, 0.3516756296157837, 0.18258695304393768, 0.009290406480431557]\n"
     ]
    }
   ],
   "source": [
    "# Testing on new data\n",
    "test_steps = 20  # Ensure this is greater than sequence_length\n",
    "X_test = torch.linspace(4 * 3.14159, 5 * 3.14159, steps=test_steps).unsqueeze(1)\n",
    "y_test = torch.sin(X_test)\n",
    "\n",
    "# Create test input sequences\n",
    "X_test_seq, _ = create_in_out_sequences(y_test, sequence_length)\n",
    "\n",
    "with torch.no_grad():\n",
    "    predictions = model(X_test_seq)\n",
    "    print(f\"Predictions for new sequence: {predictions.squeeze().tolist()}\")\n"
   ]
  }
 ],
 "metadata": {
  "kernelspec": {
   "display_name": ".venv",
   "language": "python",
   "name": "python3"
  },
  "language_info": {
   "codemirror_mode": {
    "name": "ipython",
    "version": 3
   },
   "file_extension": ".py",
   "mimetype": "text/x-python",
   "name": "python",
   "nbconvert_exporter": "python",
   "pygments_lexer": "ipython3",
   "version": "3.10.4"
  }
 },
 "nbformat": 4,
 "nbformat_minor": 2
}
