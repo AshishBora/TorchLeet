{
 "cells": [
  {
   "cell_type": "markdown",
   "metadata": {},
   "source": [
    "# Create Embeddings out of an LLM\n",
    "\n",
    "### Problem Statement\n",
    "Your mission, should you choose to accept it, is to extract **meaningful sentence-level embeddings** using a pre-trained **causal language model (SmolLM2-135M)** on Amazon Reviews.\n",
    "\n",
    "You're working with a **generative language model**, but you’re not here to generate Shakespeare. Instead, you’ll tap into its **hidden states** to get semantic embeddings that capture the essence of a review — the good, the bad, and the brutally honest.\n",
    "\n",
    "---\n",
    "\n",
    "### Requirements\n",
    "\n",
    "1. **Load and Tokenize Text**\n",
    "   - Use the `McAuley-Lab/Amazon-Reviews-2023` dataset (subset: `raw_review_All_Beauty`).\n",
    "   - Load ~10 sample reviews for testing.\n",
    "   - Tokenize them using `\"HuggingFaceTB/SmolLM2-135M\"` tokenizer.\n",
    "\n",
    "2. **Extract Embeddings**\n",
    "   - Run the tokenized batch through the model with `output_hidden_states=True`.\n",
    "   - Access the **last hidden layer** from `outputs.hidden_states[-1]`.\n",
    "\n",
    "3. **Compute Sentence Embeddings**\n",
    "   - Options:\n",
    "     - If the model uses a classification token (e.g., `[CLS]`), extract its embedding.\n",
    "     - For causal models (which typically don’t), **average the token embeddings** from the final layer, **excluding padding tokens**.\n",
    "\n",
    "4. **Display the Result**\n",
    "   - Show the shape of your final sentence embedding tensor.\n",
    "   - Print at least one sentence-level embedding to verify everything worked.\n",
    "\n",
    "---\n",
    "\n",
    "### Constraints\n",
    "\n",
    "- ❌ Do **not** use sentence-transformers or pre-built embedding tools like `bert-as-service`.\n",
    "- ❌ Do **not** generate text (no `.generate()`).\n",
    "- ✅ Use only Hugging Face's `AutoModelForCausalLM` and `AutoTokenizer`.\n",
    "- ✅ Exclude padding tokens when computing average embeddings.\n",
    "- ✅ Ensure everything runs on `cuda` if available.\n",
    "\n",
    "---\n",
    "\n",
    "<details>\n",
    "  <summary>💡 Hint</summary>\n",
    "\n",
    "```python\n",
    "# Run model with hidden states\n",
    "outputs = model(**tokenized_inputs, output_hidden_states=True, return_dict=True)\n",
    "\n",
    "# Get the last hidden layer (batch_size, seq_len, hidden_dim)\n",
    "last_hidden = outputs.hidden_states[-1]\n",
    "\n",
    "# Use the attention mask to avoid averaging over padding\n",
    "attention_mask = tokenized_inputs['attention_mask']  # (batch_size, seq_len)\n",
    "\n",
    "# Compute masked average: zero out padding tokens\n",
    "masked_embeddings = last_hidden * attention_mask.unsqueeze(-1)  # broadcast mask\n",
    "summed = masked_embeddings.sum(dim=1)  # sum across tokens\n",
    "count = attention_mask.sum(dim=1, keepdim=True)  # count of non-padding tokens\n",
    "\n",
    "# Final sentence-level embeddings\n",
    "sentence_embeddings = summed / count  # (batch_size, hidden_dim)\n"
   ]
  },
  {
   "cell_type": "code",
   "execution_count": 1,
   "metadata": {},
   "outputs": [],
   "source": [
    "import torch\n",
    "import torch.nn as nn\n",
    "import torch.optim as optim"
   ]
  },
  {
   "cell_type": "code",
   "execution_count": 2,
   "metadata": {},
   "outputs": [
    {
     "name": "stderr",
     "output_type": "stream",
     "text": [
      "c:\\Users\\chand\\miniconda3\\envs\\torchleet\\Lib\\site-packages\\tqdm\\auto.py:21: TqdmWarning: IProgress not found. Please update jupyter and ipywidgets. See https://ipywidgets.readthedocs.io/en/stable/user_install.html\n",
      "  from .autonotebook import tqdm as notebook_tqdm\n",
      "Generating full split: 701528 examples [00:14, 50103.12 examples/s]\n"
     ]
    }
   ],
   "source": [
    "# Load Amazon Reviews dataset\n",
    "from datasets import load_dataset\n",
    "dataset = load_dataset(\"McAuley-Lab/Amazon-Reviews-2023\", \"raw_review_All_Beauty\", trust_remote_code=True)"
   ]
  },
  {
   "cell_type": "code",
   "execution_count": 3,
   "metadata": {},
   "outputs": [
    {
     "name": "stdout",
     "output_type": "stream",
     "text": [
      "True\n"
     ]
    },
    {
     "data": {
      "text/plain": [
       "LlamaForCausalLM(\n",
       "  (model): LlamaModel(\n",
       "    (embed_tokens): Embedding(49152, 576)\n",
       "    (layers): ModuleList(\n",
       "      (0-29): 30 x LlamaDecoderLayer(\n",
       "        (self_attn): LlamaAttention(\n",
       "          (q_proj): Linear(in_features=576, out_features=576, bias=False)\n",
       "          (k_proj): Linear(in_features=576, out_features=192, bias=False)\n",
       "          (v_proj): Linear(in_features=576, out_features=192, bias=False)\n",
       "          (o_proj): Linear(in_features=576, out_features=576, bias=False)\n",
       "        )\n",
       "        (mlp): LlamaMLP(\n",
       "          (gate_proj): Linear(in_features=576, out_features=1536, bias=False)\n",
       "          (up_proj): Linear(in_features=576, out_features=1536, bias=False)\n",
       "          (down_proj): Linear(in_features=1536, out_features=576, bias=False)\n",
       "          (act_fn): SiLU()\n",
       "        )\n",
       "        (input_layernorm): LlamaRMSNorm((576,), eps=1e-05)\n",
       "        (post_attention_layernorm): LlamaRMSNorm((576,), eps=1e-05)\n",
       "      )\n",
       "    )\n",
       "    (norm): LlamaRMSNorm((576,), eps=1e-05)\n",
       "    (rotary_emb): LlamaRotaryEmbedding()\n",
       "  )\n",
       "  (lm_head): Linear(in_features=576, out_features=49152, bias=False)\n",
       ")"
      ]
     },
     "execution_count": 3,
     "metadata": {},
     "output_type": "execute_result"
    }
   ],
   "source": [
    "# Load SmolLM2-135M model and tokenizer\n",
    "from transformers import AutoTokenizer, AutoModelForCausalLM\n",
    "\n",
    "# Load model and tokenizer\n",
    "tokenizer = AutoTokenizer.from_pretrained(\"HuggingFaceTB/SmolLM2-135M\")\n",
    "model = AutoModelForCausalLM.from_pretrained(\"HuggingFaceTB/SmolLM2-135M\")\n",
    "print(isinstance(model, torch.nn.Module))  # Should print: True\n",
    "\n",
    "device = \"cuda\" if torch.cuda.is_available() else \"cpu\"\n",
    "model.to(device)"
   ]
  },
  {
   "cell_type": "code",
   "execution_count": 4,
   "metadata": {},
   "outputs": [
    {
     "data": {
      "text/plain": [
       "LlamaForCausalLM(\n",
       "  (model): LlamaModel(\n",
       "    (embed_tokens): Embedding(49152, 576)\n",
       "    (layers): ModuleList(\n",
       "      (0-29): 30 x LlamaDecoderLayer(\n",
       "        (self_attn): LlamaAttention(\n",
       "          (q_proj): Linear(in_features=576, out_features=576, bias=False)\n",
       "          (k_proj): Linear(in_features=576, out_features=192, bias=False)\n",
       "          (v_proj): Linear(in_features=576, out_features=192, bias=False)\n",
       "          (o_proj): Linear(in_features=576, out_features=576, bias=False)\n",
       "        )\n",
       "        (mlp): LlamaMLP(\n",
       "          (gate_proj): Linear(in_features=576, out_features=1536, bias=False)\n",
       "          (up_proj): Linear(in_features=576, out_features=1536, bias=False)\n",
       "          (down_proj): Linear(in_features=1536, out_features=576, bias=False)\n",
       "          (act_fn): SiLU()\n",
       "        )\n",
       "        (input_layernorm): LlamaRMSNorm((576,), eps=1e-05)\n",
       "        (post_attention_layernorm): LlamaRMSNorm((576,), eps=1e-05)\n",
       "      )\n",
       "    )\n",
       "    (norm): LlamaRMSNorm((576,), eps=1e-05)\n",
       "    (rotary_emb): LlamaRotaryEmbedding()\n",
       "  )\n",
       "  (lm_head): Linear(in_features=576, out_features=49152, bias=False)\n",
       ")"
      ]
     },
     "execution_count": 4,
     "metadata": {},
     "output_type": "execute_result"
    }
   ],
   "source": [
    "model"
   ]
  }
 ],
 "metadata": {
  "kernelspec": {
   "display_name": "Python 3",
   "language": "python",
   "name": "python3"
  },
  "language_info": {
   "codemirror_mode": {
    "name": "ipython",
    "version": 3
   },
   "file_extension": ".py",
   "mimetype": "text/x-python",
   "name": "python",
   "nbconvert_exporter": "python",
   "pygments_lexer": "ipython3",
   "version": "3.12.9"
  }
 },
 "nbformat": 4,
 "nbformat_minor": 2
}
