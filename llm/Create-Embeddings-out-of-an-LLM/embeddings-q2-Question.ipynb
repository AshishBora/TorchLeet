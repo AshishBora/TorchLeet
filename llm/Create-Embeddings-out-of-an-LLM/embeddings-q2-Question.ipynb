{
 "cells": [
  {
   "cell_type": "markdown",
   "metadata": {},
   "source": [
    "# Create Embeddings out of an LLM\n",
    "\n",
    "### Problem Statement\n",
    "Your mission, should you choose to accept it, is to extract **meaningful sentence-level embeddings** using a pre-trained **causal language model (SmolLM2-135M)** on Amazon Reviews.\n",
    "\n",
    "You're working with a **generative language model**, but you’re not here to generate Shakespeare. Instead, you’ll tap into its **hidden states** to get semantic embeddings that capture the essence of a review — the good, the bad, and the brutally honest.\n",
    "\n",
    "---\n",
    "\n",
    "### Requirements\n",
    "\n",
    "1. **Load and Tokenize Text**\n",
    "   - Use the `McAuley-Lab/Amazon-Reviews-2023` dataset (subset: `raw_review_All_Beauty`).\n",
    "   - Load ~10 sample reviews for testing.\n",
    "   - Tokenize them using `\"HuggingFaceTB/SmolLM2-135M\"` tokenizer.\n",
    "\n",
    "2. **Extract Embeddings**\n",
    "   - Run the tokenized batch through the model with `output_hidden_states=True`.\n",
    "   - Access the **last hidden layer** from `outputs.hidden_states[-1]`.\n",
    "\n",
    "3. **Compute Sentence Embeddings**\n",
    "   - Options:\n",
    "     - If the model uses a classification token (e.g., `[CLS]`), extract its embedding.\n",
    "     - For causal models (which typically don’t), **average the token embeddings** from the final layer, **excluding padding tokens**.\n",
    "\n",
    "4. **Display the Result**\n",
    "   - Show the shape of your final sentence embedding tensor.\n",
    "   - Print at least one sentence-level embedding to verify everything worked.\n",
    "\n",
    "---\n",
    "\n",
    "### Constraints\n",
    "\n",
    "- ❌ Do **not** use sentence-transformers or pre-built embedding tools like `bert-as-service`.\n",
    "- ❌ Do **not** generate text (no `.generate()`).\n",
    "- ✅ Use only Hugging Face's `AutoModelForCausalLM` and `AutoTokenizer`.\n",
    "- ✅ Exclude padding tokens when computing average embeddings.\n",
    "- ✅ Ensure everything runs on `cuda` if available.\n",
    "\n",
    "---\n",
    "\n",
    "<details>\n",
    "  <summary>💡 Hint</summary>\n",
    "\n",
    "```python\n",
    "# Run model with hidden states\n",
    "outputs = model(**tokenized_inputs, output_hidden_states=True, return_dict=True)\n",
    "\n",
    "# Get the last hidden layer (batch_size, seq_len, hidden_dim)\n",
    "last_hidden = outputs.hidden_states[-1]\n",
    "\n",
    "# Use the attention mask to avoid averaging over padding\n",
    "attention_mask = tokenized_inputs['attention_mask']  # (batch_size, seq_len)\n",
    "\n",
    "# Compute masked average: zero out padding tokens\n",
    "masked_embeddings = last_hidden * attention_mask.unsqueeze(-1)  # broadcast mask\n",
    "summed = masked_embeddings.sum(dim=1)  # sum across tokens\n",
    "count = attention_mask.sum(dim=1, keepdim=True)  # count of non-padding tokens\n",
    "\n",
    "# Final sentence-level embeddings\n",
    "sentence_embeddings = summed / count  # (batch_size, hidden_dim)\n"
   ]
  },
  {
   "cell_type": "code",
   "execution_count": null,
   "metadata": {},
   "outputs": [],
   "source": [
    "import torch\n",
    "import torch.nn as nn\n",
    "import torch.optim as optim"
   ]
  },
  {
   "cell_type": "code",
   "execution_count": null,
   "metadata": {},
   "outputs": [],
   "source": [
    "# Load Amazon Reviews dataset\n",
    "from datasets import load_dataset\n",
    "dataset = load_dataset(\"McAuley-Lab/Amazon-Reviews-2023\", \"raw_review_All_Beauty\", trust_remote_code=True)"
   ]
  },
  {
   "cell_type": "code",
   "execution_count": null,
   "metadata": {},
   "outputs": [],
   "source": [
    "# Load SmolLM2-135M model and tokenizer\n",
    "from transformers import AutoTokenizer, AutoModelForCausalLM\n",
    "\n",
    "# Load model and tokenizer\n",
    "tokenizer = AutoTokenizer.from_pretrained(\"HuggingFaceTB/SmolLM2-135M\")\n",
    "\n",
    "\n",
    "device = \"cuda\" if torch.cuda.is_available() else \"cpu\"\n",
    "model.to(device)"
   ]
  },
  {
   "cell_type": "code",
   "execution_count": null,
   "metadata": {},
   "outputs": [],
   "source": [
    "model"
   ]
  }
 ],
 "metadata": {
  "language_info": {
   "name": "python"
  }
 },
 "nbformat": 4,
 "nbformat_minor": 2
}
