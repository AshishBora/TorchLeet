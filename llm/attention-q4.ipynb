{
 "cells": [
  {
   "cell_type": "markdown",
   "metadata": {},
   "source": [
    "# Implement Attention from Scratch\n",
    "### Problem Statement\n",
    "\n",
    "\n",
    "### Requirements\n",
    "1. \n",
    "\n",
    "### Constraints\n",
    "-  \n",
    "\n",
    "\n",
    "<details>\n",
    "  <summary>💡 Hint</summary>\n",
    "  Some details: \n",
    "</details>\n"
   ]
  },
  {
   "cell_type": "code",
   "execution_count": 2,
   "metadata": {},
   "outputs": [],
   "source": [
    "import torch\n",
    "import torch.nn as nn\n",
    "import torch.optim as optim\n",
    "import torch.nn.functional as F"
   ]
  },
  {
   "cell_type": "code",
   "execution_count": 24,
   "metadata": {},
   "outputs": [
    {
     "name": "stdout",
     "output_type": "stream",
     "text": [
      "torch.Size([1, 3, 3])\n"
     ]
    }
   ],
   "source": [
    "# Synthetic data\n",
    "torch.manual_seed(42)\n",
    "q = torch.tensor([[[1.0, 0.5, 0.2],  # Query for token 1\n",
    "                   [0.3, 1.2, 0.7],  # Query for token 2\n",
    "                   [0.8, 0.1, 1.5]]])  # Query for token 3\n",
    "\n",
    "k = torch.tensor([[[1.0, 0.2, 0.3],  # Key for token 1\n",
    "                   [0.4, 1.5, 0.6],  # Key for token 2\n",
    "                   [0.7, 0.1, 1.8]]])  # Key for token 3\n",
    "\n",
    "v = torch.tensor([[[10.0, 2.0, 3.0],  # Value for token 1\n",
    "                   [4.0, 15.0, 6.0],  # Value for token 2\n",
    "                   [7.0, 1.0, 18.0]]])  # Value for token 3\n",
    "\n",
    "print(q.shape)"
   ]
  },
  {
   "cell_type": "code",
   "execution_count": null,
   "metadata": {},
   "outputs": [],
   "source": [
    "def scaled_dot_product_attention(q, k, v, mask=None):\n",
    "    \"\"\"\n",
    "    Compute the scaled dot-product attention.\n",
    "    \n",
    "    Args:\n",
    "        q: Query tensor of shape (..., seq_len_q, d_k)\n",
    "        k: Key tensor of shape (..., seq_len_k, d_k)\n",
    "        v: Value tensor of shape (..., seq_len_k, d_v)\n",
    "        mask: Optional mask tensor of shape (..., seq_len_q, seq_len_k)\n",
    "    \n",
    "    Returns:\n",
    "        output: Attention output tensor of shape (..., seq_len_q, d_v)\n",
    "        attention_weights: Attention weights tensor of shape (..., seq_len_q, seq_len_k)\n",
    "    \"\"\"\n",
    "    d_k = q.shape[-1]  # Get the last dimension size (key dimension)\n",
    "    \n",
    "    # Compute the dot product of Q and K^T\n",
    "    scores = torch.matmul(q, k.transpose(-2, -1)) / torch.sqrt(torch.tensor(d_k, dtype=torch.float32))\n",
    "    \n",
    "    # Apply mask if provided\n",
    "    if mask is not None:\n",
    "        scores = scores.masked_fill(mask == 0, float('-inf'))\n",
    "    \n",
    "    # Apply softmax to get attention weights along the last dimension\n",
    "    attention_weights = F.softmax(scores, dim=-1)  # dim=-1 ensures softmax is applied across the last axis\n",
    "    \n",
    "    # Compute output by weighting V with the attention weights\n",
    "    output = torch.matmul(attention_weights, v)\n",
    "    \n",
    "    return output, attention_weights"
   ]
  },
  {
   "cell_type": "code",
   "execution_count": null,
   "metadata": {},
   "outputs": [
    {
     "name": "stdout",
     "output_type": "stream",
     "text": [
      "torch.Size([1, 3, 3])\n",
      "tensor([[[ 6.9352,  6.2411,  8.8509],\n",
      "         [ 6.1200,  8.0314,  9.2154],\n",
      "         [ 6.9659,  4.0257, 12.7036]]])\n",
      "tensor([[[ 6.9352,  6.2411,  8.8509],\n",
      "         [ 6.1200,  8.0314,  9.2154],\n",
      "         [ 6.9659,  4.0257, 12.7036]]])\n"
     ]
    }
   ],
   "source": [
    "# Testing on data & compare\n",
    "output_custom, _ = scaled_dot_product_attention(q, k, v)\n",
    "print(output_custom)\n",
    "output = F.scaled_dot_product_attention(q, k, v)\n",
    "print(output)\n",
    "\n",
    "assert torch.allclose(output_custom, output, atol=1e-08, rtol=1e-05) # Check if they are close enough.\n"
   ]
  }
 ],
 "metadata": {
  "kernelspec": {
   "display_name": "Python 3",
   "language": "python",
   "name": "python3"
  },
  "language_info": {
   "codemirror_mode": {
    "name": "ipython",
    "version": 3
   },
   "file_extension": ".py",
   "mimetype": "text/x-python",
   "name": "python",
   "nbconvert_exporter": "python",
   "pygments_lexer": "ipython3",
   "version": "3.12.9"
  }
 },
 "nbformat": 4,
 "nbformat_minor": 2
}
