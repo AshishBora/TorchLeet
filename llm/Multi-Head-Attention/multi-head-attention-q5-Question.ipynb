{
 "cells": [
  {
   "cell_type": "markdown",
   "metadata": {},
   "source": [
    "# Implement Attention from Scratch\n",
    "### Problem Statement\n",
    "Multi-Head Attention (MHA) is the bread-and-butter of the Transformer architecture. It enables the model to **jointly attend** to information from different representation subspaces at different positions.\n",
    "\n",
    "Your goal is to implement MHA from scratch using PyTorch, simulating exactly what `torch.nn.MultiheadAttention` does — projecting Q, K, V for each head, computing attention weights, applying them to V, and concatenating the outputs across all heads.\n",
    "\n",
    "---\n",
    "\n",
    "### Requirements\n",
    "\n",
    "1. **Linear Projections for Q, K, V**\n",
    "   - Project input `q`, `k`, `v` into a total of `d_model` dimensions.\n",
    "   - Split them into `num_heads` of `d_head = d_model // num_heads` each.\n",
    "\n",
    "2. **Scaled Dot-Product Attention per Head**\n",
    "   - Compute attention scores:  \n",
    "     `scores = Q @ Kᵀ / sqrt(d_head)`\n",
    "   - Apply an optional `mask` before softmax.\n",
    "   - Use the scores to weight `V`.\n",
    "\n",
    "3. **Combine the Heads**\n",
    "   - Concatenate the outputs of all heads.\n",
    "   - Apply a final linear projection to restore the shape: `(batch_size, seq_len, d_model)`.\n",
    "\n",
    "4. **Validate Against PyTorch’s Reference**\n",
    "   - Test your output against `torch.nn.MultiheadAttention` using the same input tensors.\n",
    "   - Check for numerical closeness using `torch.allclose()`.\n",
    "\n",
    "---\n",
    "\n",
    "### Constraints\n",
    "\n",
    "- ✅ Use only PyTorch operations.\n",
    "- ✅ Make sure all tensors are reshaped properly when splitting and combining heads.\n",
    "- ✅ Support optional masking.\n",
    "- ✅ Must match `torch.nn.MultiheadAttention` output when heads and shape are aligned.\n",
    "\n",
    "---\n",
    "\n",
    "<details>\n",
    "  <summary>💡 Hint</summary>\n",
    "\n",
    "  - Use `.view()` and `.transpose()` to shape Q, K, V to `(batch_size, num_heads, seq_len, d_head)`.\n",
    "  - Softmax should be applied over the **last dimension** (attention scores across sequence).\n",
    "  - Use `.contiguous().view()` to flatten the multi-head outputs back into `(batch_size, seq_len, d_model)`.\n",
    "  - Match PyTorch’s behavior using the same projections and batch-first format.\n",
    "\n",
    "</details>\n",
    "\n",
    "---"
   ]
  },
  {
   "cell_type": "code",
   "execution_count": null,
   "metadata": {},
   "outputs": [],
   "source": [
    "import torch\n",
    "import torch.nn as nn\n",
    "import torch.optim as optim\n",
    "import torch.nn.functional as F"
   ]
  },
  {
   "cell_type": "code",
   "execution_count": null,
   "metadata": {},
   "outputs": [],
   "source": [
    "# Synthetic data\n",
    "torch.manual_seed(42)\n",
    "batch_size = 3\n",
    "seq_len = 4\n",
    "d_model = 8\n",
    "num_heads = 2\n",
    "\n",
    "q = torch.rand(batch_size, seq_len, d_model)\n",
    "k = torch.rand(batch_size, seq_len, d_model)\n",
    "v = torch.rand(batch_size, seq_len, d_model)\n",
    "print(q.shape)\n",
    "\n",
    "device = \"cuda\" if torch.cuda.is_available() else \"cpu\"\n",
    "device = \"cpu\""
   ]
  },
  {
   "cell_type": "code",
   "execution_count": null,
   "metadata": {},
   "outputs": [],
   "source": [
    "import torch\n",
    "import torch.nn as nn\n",
    "import torch.nn.functional as F\n",
    "\n",
    "\n",
    "\n",
    "\n",
    "def multi_head_attention(q, k, v, num_heads, d_model, mask=None):\n",
    "    \"\"\"\n",
    "    Implements multi-head attention.\n",
    "    \n",
    "    Args:\n",
    "        q (Tensor): Query tensor of shape (batch_size, seq_len, d_model)\n",
    "        k (Tensor): Key tensor of shape (batch_size, seq_len, d_model)\n",
    "        v (Tensor): Value tensor of shape (batch_size, seq_len, d_model)\n",
    "        num_heads (int): Number of attention heads\n",
    "        d_model (int): Total embedding dimension\n",
    "        mask (Tensor, optional): Masking tensor for attention\n",
    "        \n",
    "    Returns:\n",
    "        Tensor: Multi-head attention output of shape (batch_size, seq_len, d_model)\n",
    "    \"\"\"\n",
    "    ..."
   ]
  },
  {
   "cell_type": "code",
   "execution_count": null,
   "metadata": {},
   "outputs": [],
   "source": [
    "# Testing on data & compare\n",
    "output_custom = multi_head_attention(q, k, v, num_heads, d_model)\n",
    "print(output_custom)\n",
    "\n",
    "multihead_attn = torch.nn.MultiheadAttention(embed_dim=d_model, num_heads=num_heads, bias=False, batch_first=True)\n",
    "output, _ = multihead_attn(q, k, v)\n",
    "print(output)\n",
    "\n",
    "assert torch.allclose(output_custom, output, atol=1e-08, rtol=1e-05) # Check if they are close enough.\n"
   ]
  }
 ],
 "metadata": {
  "language_info": {
   "name": "python"
  }
 },
 "nbformat": 4,
 "nbformat_minor": 2
}
