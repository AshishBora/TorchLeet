{
 "cells": [
  {
   "cell_type": "markdown",
   "metadata": {},
   "source": [
    "# Implement ROPE from Scratch\n",
    "# 🔁 Rotary Positional Embeddings in PyTorch\n",
    "\n",
    "### 🧠 Problem Statement\n",
    "Transformers need a sense of **order**, but vanilla attention mechanisms are position-agnostic. Positional encodings help inject this order-awareness into the model. \n",
    "\n",
    "Your mission is to implement **Rotary Positional Embeddings (RoPE)** from scratch — a newer and slicker technique that rotates the query and key vectors instead of simply adding sine-cosine vectors. This method preserves attention efficiency while enabling better generalization for long sequences.\n",
    "\n",
    "---\n",
    "\n",
    "### ✅ Requirements\n",
    "\n",
    "1. **Implement the Rotary Module**\n",
    "   - Construct a `Rotary` class to compute sinusoidal frequencies.\n",
    "   - Precompute and cache `cos` and `sin` values per sequence length.\n",
    "   - Register these as buffers to keep them on the correct device.\n",
    "\n",
    "2. **Define Rotation Helpers**\n",
    "   - `rotate_half(x)` splits and rotates half the dimensions of a tensor.\n",
    "   - `apply_rotary_pos_emb(q, k, cos, sin)` applies these rotations to Q and K.\n",
    "\n",
    "3. **Simulate Usage**\n",
    "   - Create synthetic tensors for Q, K, V.\n",
    "   - Generate rotary embeddings using the custom `Rotary` module.\n",
    "   - Apply rotary embeddings to Q and K.\n",
    "\n",
    "4. **Verify Dimensions**\n",
    "   - Final shapes should align with expected shapes for attention modules.\n",
    "   - Confirm RoPE is applied before dot-product attention would normally occur.\n",
    "\n",
    "---\n",
    "\n",
    "### 📏 Constraints\n",
    "\n",
    "- ✅ Use only PyTorch — no Fairseq or HuggingFace positional modules.\n",
    "- ✅ Must support dynamic sequence lengths and cache embeddings per sequence.\n",
    "- ✅ Should handle odd/even dimensional splits correctly.\n",
    "- ❌ Do **not** manually plug in Fairseq’s `SinusoidalPositionalEmbedding`.\n",
    "\n",
    "---\n",
    "\n",
    "<details>\n",
    "  <summary>💡 Hint</summary>\n",
    "  - Use `torch.einsum(\"i,j->ij\", t, inv_freq)` to compute frequency pairs.\n",
    "  - Cache the cosine and sine values in the `Rotary` class using `self.register_buffer()`.\n",
    "  - The `rotate_half(x)` function should split `x` into two halves and rotate them: `[-x2, x1]`.\n",
    "  - Apply the rotary transformation using:  \n",
    "    `(q * cos) + (rotate_half(q) * sin)`  \n",
    "    and similarly for `k`.\n",
    "  - Remember to broadcast `cos` and `sin` to match the shape of `q` and `k`.\n",
    "</details>"
   ]
  },
  {
   "cell_type": "code",
   "execution_count": 3,
   "metadata": {},
   "outputs": [],
   "source": [
    "import torch\n",
    "import torch.nn as nn\n",
    "import torch.optim as optim\n",
    "import torch.nn.functional as F\n",
    "import math"
   ]
  },
  {
   "cell_type": "code",
   "execution_count": 4,
   "metadata": {},
   "outputs": [
    {
     "name": "stdout",
     "output_type": "stream",
     "text": [
      "torch.Size([3, 4, 8])\n"
     ]
    }
   ],
   "source": [
    "# Synthetic data\n",
    "torch.manual_seed(42)\n",
    "batch_size = 3\n",
    "seq_len = 4\n",
    "d_model = 8\n",
    "num_heads = 2\n",
    "\n",
    "q = torch.rand(batch_size, seq_len, d_model)\n",
    "k = torch.rand(batch_size, seq_len, d_model)\n",
    "v = torch.rand(batch_size, seq_len, d_model)\n",
    "print(q.shape)\n",
    "\n",
    "device = \"cuda\" if torch.cuda.is_available() else \"cpu\"\n",
    "device = \"cpu\""
   ]
  },
  {
   "cell_type": "code",
   "execution_count": null,
   "metadata": {},
   "outputs": [],
   "source": [
    "class Rotary(torch.nn.Module):\n",
    "    def __init__(self, dim, base=10000):\n",
    "        super().__init__()\n",
    "        inv_freq = 1.0 / (base ** (torch.arange(0, dim, 2).float() / dim))\n",
    "        self.register_buffer(\"inv_freq\", inv_freq)\n",
    "        self.seq_len_cached = None\n",
    "        self.cos_cached = None\n",
    "        self.sin_cached = None\n",
    "\n",
    "    def forward(self, x, seq_dim=1):\n",
    "        seq_len = x.shape[seq_dim]\n",
    "        if seq_len != self.seq_len_cached:\n",
    "            self.seq_len_cached = seq_len\n",
    "            t = torch.arange(x.shape[seq_dim], device=x.device).type_as(self.inv_freq)\n",
    "            freqs = torch.einsum(\"i,j->ij\", t, self.inv_freq)\n",
    "            emb = torch.cat((freqs, freqs), dim=-1).to(x.device)\n",
    "            self.cos_cached = emb.cos()[:, None, None, :]\n",
    "            self.sin_cached = emb.sin()[:, None, None, :]\n",
    "        return self.cos_cached, self.sin_cached\n",
    "\n",
    "\n",
    "# rotary pos emb helpers:\n",
    "\n",
    "def rotate_half(x):\n",
    "    x1, x2 = x[..., : x.shape[-1] // 2], x[..., x.shape[-1] // 2 :]\n",
    "    return torch.cat(\n",
    "        (-x2, x1), dim=x1.ndim - 1\n",
    "    )  # dim=-1 triggers a bug in torch < 1.8.0\n",
    "\n",
    "\n",
    "@torch.jit.script\n",
    "def apply_rotary_pos_emb(q, k, cos, sin):\n",
    "    return (q * cos) + (rotate_half(q) * sin), (k * cos) + (rotate_half(k) * sin)"
   ]
  },
  {
   "cell_type": "code",
   "execution_count": null,
   "metadata": {},
   "outputs": [
    {
     "name": "stdout",
     "output_type": "stream",
     "text": [
      "torch.Size([1, 50, 100])\n"
     ]
    }
   ],
   "source": [
    "# from fairseq.modules.sinusoidal_positional_embedding import SinusoidalPositionalEmbedding\n",
    "\n",
    "max_seq_len = 100\n",
    "d_model = 64\n",
    "\n",
    "# Fairseq's implementation requires the number of embeddings (seq length) and embedding dim\n",
    "# pos_emb = SinusoidalPositionalEmbedding(d_model, max_seq_len, padding_idx=None)\n",
    "\n",
    "# Generate embeddings for a sequence of length 50\n",
    "seq_len = 50\n",
    "positions = torch.arange(seq_len).unsqueeze(0)  # Shape: (1, seq_len)\n",
    "# positional_encoding = pos_emb(positions)  # Shape: (1, seq_len, d_model)\n",
    "\n",
    "custom_pos_emb = Rotary(d_model, max_seq_len)\n",
    "\n",
    "positional_encoding_custom = apply_rotary_pos_emb(positions)\n",
    "\n",
    "print(positional_encoding_custom.shape)  # (1, 50, 64)\n"
   ]
  }
 ],
 "metadata": {
  "kernelspec": {
   "display_name": "Python 3",
   "language": "python",
   "name": "python3"
  },
  "language_info": {
   "codemirror_mode": {
    "name": "ipython",
    "version": 3
   },
   "file_extension": ".py",
   "mimetype": "text/x-python",
   "name": "python",
   "nbconvert_exporter": "python",
   "pygments_lexer": "ipython3",
   "version": "3.12.9"
  }
 },
 "nbformat": 4,
 "nbformat_minor": 2
}
