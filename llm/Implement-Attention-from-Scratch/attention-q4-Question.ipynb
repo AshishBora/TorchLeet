{
 "cells": [
  {
   "cell_type": "markdown",
   "metadata": {},
   "source": [
    "# Implement Attention from Scratch\n",
    "### Problem Statement\n",
    "Implement a **Scaled Dot-Product Attention** mechanism from scratch using PyTorch. Your mission (should you choose to accept it) is to replicate what PyTorch's built-in `scaled_dot_product_attention` does — manually. This core component is essential in Transformer architectures and helps models focus on relevant parts of a sequence. You'll test your implementation against PyTorch's native one to ensure you nailed it.\n",
    "\n",
    "\n",
    "### Requirements\n",
    "1. **Define the Function**:\n",
    "   - Create a function `scaled_dot_product_attention(q, k, v, mask=None)` that:\n",
    "     - Computes attention scores via the dot product of query and key vectors.\n",
    "     - Scales the scores using the square root of the key dimension.\n",
    "     - Applies an optional mask to the scores.\n",
    "     - Applies softmax to convert scores into attention weights.\n",
    "     - Uses these weights to compute a weighted sum of values (V).\n",
    "\n",
    "2. **Test Your Work**:\n",
    "   - Use sample tensors for query (Q), key (K), and value (V).\n",
    "   - Compare the result of your custom implementation with PyTorch's `F.scaled_dot_product_attention` using an `assert` to check numerical accuracy.\n",
    "\n",
    "\n",
    "### Constraints\n",
    "- ❌ Do NOT use `F.scaled_dot_product_attention` inside your custom function — that defeats the whole point.\n",
    "- ✅ Your implementation must handle **batch dimensions** correctly.\n",
    "- ✅ Support optional **masking** for future tokens or padding.\n",
    "- ✅ Use only PyTorch ops — no cheating with external attention libs.\n",
    "\n",
    "\n",
    "\n",
    "<details>\n",
    "  <summary>💡 Hint</summary>\n",
    "  Use `torch.matmul()` to compute dot products and `F.softmax()` for the final attention weights. The mask (if used) should be applied **before** the softmax using `masked_fill`.\n",
    "</details>\n"
   ]
  },
  {
   "cell_type": "code",
   "execution_count": null,
   "metadata": {},
   "outputs": [],
   "source": [
    "import torch\n",
    "import torch.nn as nn\n",
    "import torch.optim as optim\n",
    "import torch.nn.functional as F"
   ]
  },
  {
   "cell_type": "code",
   "execution_count": null,
   "metadata": {},
   "outputs": [],
   "source": [
    "# Synthetic data\n",
    "torch.manual_seed(42)\n",
    "q = torch.tensor([[[1.0, 0.5, 0.2],  # Query for token 1\n",
    "                   [0.3, 1.2, 0.7],  # Query for token 2\n",
    "                   [0.8, 0.1, 1.5]]])  # Query for token 3\n",
    "\n",
    "k = torch.tensor([[[1.0, 0.2, 0.3],  # Key for token 1\n",
    "                   [0.4, 1.5, 0.6],  # Key for token 2\n",
    "                   [0.7, 0.1, 1.8]]])  # Key for token 3\n",
    "\n",
    "v = torch.tensor([[[10.0, 2.0, 3.0],  # Value for token 1\n",
    "                   [4.0, 15.0, 6.0],  # Value for token 2\n",
    "                   [7.0, 1.0, 18.0]]])  # Value for token 3\n",
    "\n",
    "print(q.shape)"
   ]
  },
  {
   "cell_type": "code",
   "execution_count": null,
   "metadata": {},
   "outputs": [],
   "source": [
    "def scaled_dot_product_attention(q, k, v, mask=None):\n",
    "    \"\"\"\n",
    "    Compute the scaled dot-product attention.\n",
    "    \n",
    "    Args:\n",
    "        q: Query tensor of shape (..., seq_len_q, d_k)\n",
    "        k: Key tensor of shape (..., seq_len_k, d_k)\n",
    "        v: Value tensor of shape (..., seq_len_k, d_v)\n",
    "        mask: Optional mask tensor of shape (..., seq_len_q, seq_len_k)\n",
    "    \n",
    "    Returns:\n",
    "        output: Attention output tensor of shape (..., seq_len_q, d_v)\n",
    "        attention_weights: Attention weights tensor of shape (..., seq_len_q, seq_len_k)\n",
    "    \"\"\"\n",
    "    ..."
   ]
  },
  {
   "cell_type": "code",
   "execution_count": null,
   "metadata": {},
   "outputs": [],
   "source": [
    "# Testing on data & compare\n",
    "output_custom, _ = scaled_dot_product_attention(q, k, v)\n",
    "print(output_custom)\n",
    "output = F.scaled_dot_product_attention(q, k, v)\n",
    "print(output)\n",
    "\n",
    "assert torch.allclose(output_custom, output, atol=1e-08, rtol=1e-05) # Check if they are close enough.\n"
   ]
  }
 ],
 "metadata": {
  "language_info": {
   "name": "python"
  }
 },
 "nbformat": 4,
 "nbformat_minor": 2
}
