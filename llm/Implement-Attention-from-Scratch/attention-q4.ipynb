{
 "cells": [
  {
   "cell_type": "markdown",
   "metadata": {},
   "source": [
    "# Implement Attention from Scratch\n",
    "### Problem Statement\n",
    "Implement a **Scaled Dot-Product Attention** mechanism from scratch using PyTorch. Your mission (should you choose to accept it) is to replicate what PyTorch's built-in `scaled_dot_product_attention` does — manually. This core component is essential in Transformer architectures and helps models focus on relevant parts of a sequence. You'll test your implementation against PyTorch's native one to ensure you nailed it.\n",
    "\n",
    "\n",
    "### Requirements\n",
    "1. **Define the Function**:\n",
    "   - Create a function `scaled_dot_product_attention(q, k, v, mask=None)` that:\n",
    "     - Computes attention scores via the dot product of query and key vectors.\n",
    "     - Scales the scores using the square root of the key dimension.\n",
    "     - Applies an optional mask to the scores.\n",
    "     - Applies softmax to convert scores into attention weights.\n",
    "     - Uses these weights to compute a weighted sum of values (V).\n",
    "\n",
    "2. **Test Your Work**:\n",
    "   - Use sample tensors for query (Q), key (K), and value (V).\n",
    "   - Compare the result of your custom implementation with PyTorch's `F.scaled_dot_product_attention` using an `assert` to check numerical accuracy.\n",
    "\n",
    "\n",
    "### Constraints\n",
    "- ❌ Do NOT use `F.scaled_dot_product_attention` inside your custom function — that defeats the whole point.\n",
    "- ✅ Your implementation must handle **batch dimensions** correctly.\n",
    "- ✅ Support optional **masking** for future tokens or padding.\n",
    "- ✅ Use only PyTorch ops — no cheating with external attention libs.\n",
    "\n",
    "\n",
    "\n",
    "<details>\n",
    "  <summary>💡 Hint</summary>\n",
    "  Use `torch.matmul()` to compute dot products and `F.softmax()` for the final attention weights. The mask (if used) should be applied **before** the softmax using `masked_fill`.\n",
    "</details>\n"
   ]
  },
  {
   "cell_type": "code",
   "execution_count": 1,
   "metadata": {},
   "outputs": [],
   "source": [
    "import torch\n",
    "import torch.nn as nn\n",
    "import torch.optim as optim\n",
    "import torch.nn.functional as F"
   ]
  },
  {
   "cell_type": "code",
   "execution_count": null,
   "metadata": {},
   "outputs": [
    {
     "name": "stdout",
     "output_type": "stream",
     "text": [
      "torch.Size([1, 3, 3])\n"
     ]
    }
   ],
   "source": [
    "import torch\n",
    "\n",
    "torch.manual_seed(42)\n",
    "\n",
    "batch_size = 1\n",
    "seq_len = 3\n",
    "dim = 3\n",
    "\n",
    "q = torch.randn(batch_size, seq_len, dim)\n",
    "k = torch.randn(batch_size, seq_len, dim)\n",
    "v = torch.randn(batch_size, seq_len, dim)"
   ]
  },
  {
   "cell_type": "code",
   "execution_count": 3,
   "metadata": {},
   "outputs": [],
   "source": [
    "def scaled_dot_product_attention(q, k, v, mask=None):\n",
    "    \"\"\"\n",
    "    Compute the scaled dot-product attention.\n",
    "    \n",
    "    Args:\n",
    "        q: Query tensor of shape (..., seq_len_q, d_k)\n",
    "        k: Key tensor of shape (..., seq_len_k, d_k)\n",
    "        v: Value tensor of shape (..., seq_len_k, d_v)\n",
    "        mask: Optional mask tensor of shape (..., seq_len_q, seq_len_k)\n",
    "    \n",
    "    Returns:\n",
    "        output: Attention output tensor of shape (..., seq_len_q, d_v)\n",
    "        attention_weights: Attention weights tensor of shape (..., seq_len_q, seq_len_k)\n",
    "    \"\"\"\n",
    "    d_k = q.shape[-1]  # Get the last dimension size (key dimension)\n",
    "    \n",
    "    # Compute the dot product of Q and K^T\n",
    "    scores = torch.matmul(q, k.transpose(-2, -1)) / torch.sqrt(torch.tensor(d_k, dtype=torch.float32))\n",
    "    \n",
    "    # Apply mask if provided\n",
    "    if mask is not None:\n",
    "        scores = scores.masked_fill(mask == 0, float('-inf'))\n",
    "    \n",
    "    # Apply softmax to get attention weights along the last dimension\n",
    "    attention_weights = F.softmax(scores, dim=-1)  # dim=-1 ensures softmax is applied across the last axis\n",
    "    \n",
    "    # Compute output by weighting V with the attention weights\n",
    "    output = torch.matmul(attention_weights, v)\n",
    "    \n",
    "    return output, attention_weights"
   ]
  },
  {
   "cell_type": "code",
   "execution_count": 4,
   "metadata": {},
   "outputs": [
    {
     "name": "stdout",
     "output_type": "stream",
     "text": [
      "tensor([[[ 6.9352,  6.2411,  8.8509],\n",
      "         [ 6.1200,  8.0314,  9.2154],\n",
      "         [ 6.9659,  4.0257, 12.7036]]])\n",
      "tensor([[[ 6.9352,  6.2411,  8.8509],\n",
      "         [ 6.1200,  8.0314,  9.2154],\n",
      "         [ 6.9659,  4.0257, 12.7036]]])\n"
     ]
    }
   ],
   "source": [
    "# Testing on data & compare\n",
    "output_custom, _ = scaled_dot_product_attention(q, k, v)\n",
    "print(output_custom)\n",
    "output = F.scaled_dot_product_attention(q, k, v)\n",
    "print(output)\n",
    "\n",
    "assert torch.allclose(output_custom, output, atol=1e-08, rtol=1e-05) # Check if they are close enough.\n"
   ]
  }
 ],
 "metadata": {
  "kernelspec": {
   "display_name": "Python 3",
   "language": "python",
   "name": "python3"
  },
  "language_info": {
   "codemirror_mode": {
    "name": "ipython",
    "version": 3
   },
   "file_extension": ".py",
   "mimetype": "text/x-python",
   "name": "python",
   "nbconvert_exporter": "python",
   "pygments_lexer": "ipython3",
   "version": "3.9.6"
  }
 },
 "nbformat": 4,
 "nbformat_minor": 2
}
