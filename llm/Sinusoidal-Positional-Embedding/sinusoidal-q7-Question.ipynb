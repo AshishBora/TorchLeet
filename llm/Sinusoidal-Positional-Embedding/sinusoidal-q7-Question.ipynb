{
  "cells": [
    {
      "cell_type": "markdown",
      "metadata": {
        "id": "OJr_jgz3XWz4"
      },
      "source": [
        "# Implement Attention from Scratch\n",
        "###  Problem Statement\n",
        "Transformers are order-agnostic — they see tokens like goldfish: no sense of sequence. To inject **position awareness** into the model, we use **Sinusoidal Positional Embeddings**, where each position in the sequence gets a unique deterministic vector. These vectors are computed using sine and cosine waves at different frequencies.\n",
        "\n",
        "Your task is to implement the sinusoidal position encoding mechanism from scratch using PyTorch — no cheating with built-ins from `fairseq` or Hugging Face.\n",
        "\n",
        "---\n",
        "\n",
        "###  Requirements\n",
        "\n",
        "1. **Define the Sinusoidal Embedding Class**\n",
        "   - Implement a `SinusoidalPositionalEmbedding` class inheriting from `nn.Module`.\n",
        "   - Initialize with `max_seq_len` and `d_model`.\n",
        "   - Create a tensor `pe` of shape `(max_seq_len, d_model)` filled with sine and cosine encodings:\n",
        "     - `sin(position * ω)` for even indices\n",
        "     - `cos(position * ω)` for odd indices\n",
        "\n",
        "2. **Register as Buffer**\n",
        "   - Use `self.register_buffer(\"pe\", pe)` to store `pe` without treating it as a trainable parameter.\n",
        "\n",
        "3. **Generate Encodings**\n",
        "   - On calling `forward(x)`, return the slice of positional encodings matching the sequence length of `x`.\n",
        "\n",
        "4. **Test the Embeddings**\n",
        "   - Initialize the embedding class with `max_seq_len = 100` and `d_model = 64`.\n",
        "   - Pass a sequence of length 50 to verify the returned shape is `(1, 50, 64)`.\n",
        "\n",
        "---\n",
        "\n",
        "### Constraints\n",
        "\n",
        "- ✅ Do not use Hugging Face, Fairseq, or built-in PyTorch modules for position encoding.\n",
        "- ✅ Ensure the `pe` tensor is not a trainable parameter.\n",
        "- ✅ Support any sequence length up to `max_seq_len`.\n",
        "- ❌ Do not inject these embeddings directly into token embeddings yet — this is just the embedding module.\n",
        "\n",
        "---\n",
        "\n",
        "<details>\n",
        "  <summary>💡 Hint</summary>\n",
        "\n",
        "  - Use `torch.arange(0, max_seq_len).unsqueeze(1)` to create position indices.\n",
        "  - Compute frequencies with `torch.exp(torch.arange(0, d_model, 2) * -(math.log(10000.0) / d_model))`.\n",
        "  - Alternate `sin` and `cos` values for even and odd embedding dimensions.\n",
        "  - When returning the embedding in `forward`, use `.unsqueeze(0)` to broadcast over the batch dimension.\n",
        "\n",
        "</details>"
      ]
    },
    {
      "cell_type": "code",
      "execution_count": 3,
      "metadata": {
        "id": "AUj-Bv0tXWz5"
      },
      "outputs": [],
      "source": [
        "import torch\n",
        "import torch.nn as nn\n",
        "import torch.optim as optim\n",
        "import torch.nn.functional as F\n",
        "import math"
      ]
    },
    {
      "cell_type": "code",
      "execution_count": 4,
      "metadata": {
        "id": "WRlXKmYiXWz5",
        "outputId": "c54c71c6-b442-4fea-be3d-638e132ef5a5",
        "colab": {
          "base_uri": "https://localhost:8080/"
        }
      },
      "outputs": [
        {
          "output_type": "stream",
          "name": "stdout",
          "text": [
            "torch.Size([3, 4, 8])\n"
          ]
        }
      ],
      "source": [
        "# Synthetic data\n",
        "torch.manual_seed(42)\n",
        "batch_size = 3\n",
        "seq_len = 4\n",
        "d_model = 8\n",
        "num_heads = 2\n",
        "\n",
        "q = torch.rand(batch_size, seq_len, d_model)\n",
        "k = torch.rand(batch_size, seq_len, d_model)\n",
        "v = torch.rand(batch_size, seq_len, d_model)\n",
        "print(q.shape)\n",
        "\n",
        "device = \"cuda\" if torch.cuda.is_available() else \"cpu\"\n",
        "device = \"cpu\""
      ]
    },
    {
      "cell_type": "code",
      "execution_count": 30,
      "metadata": {
        "id": "EIljU6HgXWz5"
      },
      "outputs": [],
      "source": [
        "class SinusoidalPositionalEmbedding(nn.Module):\n",
        "\n",
        "    def __init__(self, max_seq_len: int, d_model: int):\n",
        "        \"\"\"\n",
        "        Initializes the sinusoidal positional embedding.\n",
        "\n",
        "        Args:\n",
        "            max_seq_len (int): Maximum sequence length.\n",
        "            d_model (int): Embedding dimension.\n",
        "        \"\"\"\n",
        "        super().__init__()\n",
        "        # i can go from 0 to d_model / 2\n",
        "        max_i = d_model // 2  # TODO: test this and increment if needed\n",
        "        i_vec = torch.arange(max_i)\n",
        "        wi = torch.pow(10000, 2*i_vec/d_model)\n",
        "\n",
        "        # pos can range from 0 to max_seq_len\n",
        "        # We need to compute pe for every i for every pos, so we use broadcasting\n",
        "        pos_vec = torch.arange(max_seq_len).reshape(-1, 1)\n",
        "\n",
        "        # pe(pos, 2i)   = sin(pos * wi)\n",
        "        # pe(pos, 2i+1) = cos(pos * wi)\n",
        "\n",
        "        pe_sin = torch.sin(pos_vec * wi)  # shape: (max_seq_len, max_i)\n",
        "        pe_cos = torch.cos(pos_vec * wi)  # shape: (max_seq_len, max_i)\n",
        "\n",
        "        # Now, we intersprese these\n",
        "        pe = torch.stack([pe_sin, pe_cos], dim=2)  # shape: (max_seq_len, max_i, 2)\n",
        "        pe = pe.reshape(max_seq_len, max_i*2)\n",
        "        pe = pe[:, :d_model]  # chop off last column if not needed\n",
        "        assert(pe.shape == (max_seq_len, d_model))\n",
        "        self.register_buffer(\"pe\", pe)\n",
        "\n",
        "\n",
        "    def forward(self, x):\n",
        "        \"\"\"\n",
        "        Returns the positional embedding for a given input tensor.\n",
        "\n",
        "        Args:\n",
        "            x (Tensor): Input tensor of shape (batch_size, seq_len).\n",
        "\n",
        "        Returns:\n",
        "            Tensor: Positional embeddings of shape (batch_size, seq_len, d_model).\n",
        "        \"\"\"\n",
        "        batch_size, seq_len = x.shape\n",
        "        return self.pe[:seq_len, :].unsqueeze(0).tile(batch_size, 1, 1)\n"
      ]
    },
    {
      "cell_type": "code",
      "source": [
        "from fairseq.modules.sinusoidal_positional_embedding import SinusoidalPositionalEmbedding\n",
        "\n",
        "max_seq_len = 100\n",
        "d_model = 64\n",
        "\n",
        "# Fairseq's implementation requires the number of embeddings (seq length) and embedding dim\n",
        "pos_emb = SinusoidalPositionalEmbedding(d_model, max_seq_len, padding_idx=None)\n",
        "\n",
        "# Generate embeddings for a sequence of length 50\n",
        "seq_len = 50\n",
        "positions = torch.arange(seq_len).unsqueeze(0)  # Shape: (1, seq_len)\n",
        "positional_encoding = pos_emb(positions)  # Shape: (1, seq_len, d_model)\n",
        "\n",
        "custom_pos_emb = SinusoidalPositionalEmbedding(d_model, max_seq_len)\n",
        "positional_encoding_custom = custom_pos_emb(positions)\n",
        "\n",
        "# print(positional_encoding_custom.shape)  # (1, 50, 64)"
      ],
      "metadata": {
        "id": "Q4jJUU-8cFJG",
        "outputId": "ca8e5866-a4d5-4149-846e-20a856456d92",
        "colab": {
          "base_uri": "https://localhost:8080/",
          "height": 384
        }
      },
      "execution_count": 31,
      "outputs": [
        {
          "output_type": "error",
          "ename": "ModuleNotFoundError",
          "evalue": "No module named 'fairseq'",
          "traceback": [
            "\u001b[0;31m---------------------------------------------------------------------------\u001b[0m",
            "\u001b[0;31mModuleNotFoundError\u001b[0m                       Traceback (most recent call last)",
            "\u001b[0;32m/tmp/ipython-input-31-1194282340.py\u001b[0m in \u001b[0;36m<cell line: 0>\u001b[0;34m()\u001b[0m\n\u001b[0;32m----> 1\u001b[0;31m \u001b[0;32mfrom\u001b[0m \u001b[0mfairseq\u001b[0m\u001b[0;34m.\u001b[0m\u001b[0mmodules\u001b[0m\u001b[0;34m.\u001b[0m\u001b[0msinusoidal_positional_embedding\u001b[0m \u001b[0;32mimport\u001b[0m \u001b[0mSinusoidalPositionalEmbedding\u001b[0m\u001b[0;34m\u001b[0m\u001b[0;34m\u001b[0m\u001b[0m\n\u001b[0m\u001b[1;32m      2\u001b[0m \u001b[0;34m\u001b[0m\u001b[0m\n\u001b[1;32m      3\u001b[0m \u001b[0mmax_seq_len\u001b[0m \u001b[0;34m=\u001b[0m \u001b[0;36m100\u001b[0m\u001b[0;34m\u001b[0m\u001b[0;34m\u001b[0m\u001b[0m\n\u001b[1;32m      4\u001b[0m \u001b[0md_model\u001b[0m \u001b[0;34m=\u001b[0m \u001b[0;36m64\u001b[0m\u001b[0;34m\u001b[0m\u001b[0;34m\u001b[0m\u001b[0m\n\u001b[1;32m      5\u001b[0m \u001b[0;34m\u001b[0m\u001b[0m\n",
            "\u001b[0;31mModuleNotFoundError\u001b[0m: No module named 'fairseq'",
            "",
            "\u001b[0;31m---------------------------------------------------------------------------\u001b[0;32m\nNOTE: If your import is failing due to a missing package, you can\nmanually install dependencies using either !pip or !apt.\n\nTo view examples of installing some common dependencies, click the\n\"Open Examples\" button below.\n\u001b[0;31m---------------------------------------------------------------------------\u001b[0m\n"
          ],
          "errorDetails": {
            "actions": [
              {
                "action": "open_url",
                "actionText": "Open Examples",
                "url": "/notebooks/snippets/importing_libraries.ipynb"
              }
            ]
          }
        }
      ]
    },
    {
      "cell_type": "code",
      "source": [],
      "metadata": {
        "id": "x_0MWO0ud3D6"
      },
      "execution_count": null,
      "outputs": []
    }
  ],
  "metadata": {
    "language_info": {
      "name": "python"
    },
    "colab": {
      "provenance": [],
      "toc_visible": true
    },
    "kernelspec": {
      "name": "python3",
      "display_name": "Python 3"
    }
  },
  "nbformat": 4,
  "nbformat_minor": 0
}