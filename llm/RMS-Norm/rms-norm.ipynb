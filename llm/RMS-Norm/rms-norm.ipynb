{
 "cells": [
  {
   "cell_type": "code",
   "execution_count": null,
   "id": "ba5692f6",
   "metadata": {},
   "outputs": [],
   "source": [
    "import torch\n",
    "import torch.nn as nn\n",
    "\n",
    "class RMSNorm(nn.Module):\n",
    "    def __init__(self, dim: int, eps: float = 1e-8):\n",
    "        super().__init__()\n",
    "        self.eps = eps\n",
    "        self.scale = nn.Parameter(torch.ones(dim))  # gamma\n",
    "\n",
    "    def forward(self, x: torch.Tensor) -> torch.Tensor:\n",
    "        # x: shape (..., dim)\n",
    "        norm = torch.sqrt(x.pow(2).mean(dim=-1, keepdim=True) + self.eps)  # RMS\n",
    "        return (x / norm) * self.scale\n"
   ]
  },
  {
   "cell_type": "code",
   "execution_count": null,
   "id": "5813413b",
   "metadata": {},
   "outputs": [],
   "source": [
    "x = torch.randn(3, 5)  # e.g., (batch_size=3, features=5)\n",
    "rmsnorm = RMSNorm(dim=5)\n",
    "out = rmsnorm(x)\n",
    "print(out.shape)  # should be (3, 5)\n",
    "assert out.shape == (3, 5), \"Output shape mismatch\""
   ]
  }
 ],
 "metadata": {
  "language_info": {
   "name": "python"
  }
 },
 "nbformat": 4,
 "nbformat_minor": 5
}
